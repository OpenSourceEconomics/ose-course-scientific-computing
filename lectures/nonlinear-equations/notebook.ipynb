{
 "cells": [
  {
   "cell_type": "markdown",
   "metadata": {},
   "source": [
    "\n",
    "# Nonlinear equations"
   ]
  },
  {
   "cell_type": "code",
   "execution_count": 1,
   "metadata": {},
   "outputs": [],
   "source": [
    "from functools import partial\n",
    "\n",
    "import pandas as pd\n",
    "import numpy as np\n",
    "\n",
    "\n",
    "from nonlinear_algorithms import bisect\n",
    "from nonlinear_plots import plot_bisect_example\n",
    "\n",
    "from nonlinear_algorithms import fixpoint\n",
    "from nonlinear_plots import plot_fixpoint_example\n",
    "\n",
    "from nonlinear_algorithms import newton_method\n",
    "from nonlinear_problems import get_cournot_problem\n",
    "\n",
    "from nonlinear_algorithms import mcp_minmax, mcp_fisher\n",
    "from nonlinear_problems import get_mcp_problem\n",
    "from nonlinear_problems import get_spacial_market\n",
    "from nonlinear_problems import get_fischer_problem\n",
    "\n",
    "from scipy.optimize import root"
   ]
  },
  {
   "cell_type": "markdown",
   "metadata": {},
   "source": [
    "## Bisection method\n",
    "\n",
    "We can start with some special cases to develop the basic building blocks for more complicated material"
   ]
  },
  {
   "cell_type": "code",
   "execution_count": 2,
   "metadata": {},
   "outputs": [
    {
     "data": {
      "text/plain": [
       "1.259921059012413"
      ]
     },
     "execution_count": 2,
     "metadata": {},
     "output_type": "execute_result"
    }
   ],
   "source": [
    "def f(x):\n",
    "    return x ** 3 - 2\n",
    "\n",
    "\n",
    "a, b = 1, 2\n",
    "bisect(f, a, b)"
   ]
  },
  {
   "cell_type": "code",
   "execution_count": 3,
   "metadata": {},
   "outputs": [
    {
     "data": {
      "image/png": "[encoded data removed]",
      "text/plain": [
       "<Figure size 432x288 with 1 Axes>"
      ]
     },
     "metadata": {
      "needs_background": "light"
     },
     "output_type": "display_data"
    }
   ],
   "source": [
    "plot_bisect_example(f, a, b)"
   ]
  },
  {
   "cell_type": "markdown",
   "metadata": {},
   "source": [
    "## Function iteration"
   ]
  },
  {
   "cell_type": "code",
   "execution_count": 4,
   "metadata": {},
   "outputs": [
    {
     "data": {
      "text/plain": [
       "1.0000846162726942"
      ]
     },
     "execution_count": 4,
     "metadata": {},
     "output_type": "execute_result"
    }
   ],
   "source": [
    "def f(x):\n",
    "    return np.sqrt(x)\n",
    "\n",
    "\n",
    "fixpoint(f, 2)"
   ]
  },
  {
   "cell_type": "code",
   "execution_count": 5,
   "metadata": {},
   "outputs": [
    {
     "data": {
      "image/png": "[encoded data removed]",
      "text/plain": [
       "<Figure size 432x288 with 1 Axes>"
      ]
     },
     "metadata": {
      "needs_background": "light"
     },
     "output_type": "display_data"
    }
   ],
   "source": [
    "plot_fixpoint_example(f)"
   ]
  },
  {
   "cell_type": "markdown",
   "metadata": {},
   "source": [
    "## Newton's method"
   ]
  },
  {
   "cell_type": "code",
   "execution_count": 6,
   "metadata": {},
   "outputs": [
    {
     "data": {
      "text/plain": [
       "array([1.25992105])"
      ]
     },
     "execution_count": 6,
     "metadata": {},
     "output_type": "execute_result"
    }
   ],
   "source": [
    "def f(x):\n",
    "    return x ** 3 - 2, 3 * x ** 2\n",
    "\n",
    "\n",
    "newton_method(f, np.array([1.0]))"
   ]
  },
  {
   "cell_type": "code",
   "execution_count": 7,
   "metadata": {},
   "outputs": [
    {
     "data": {
      "text/plain": [
       "array([0.8395676 , 0.68879643])"
      ]
     },
     "execution_count": 7,
     "metadata": {},
     "output_type": "execute_result"
    }
   ],
   "source": [
    "c, e = np.array([0.6, 0.8]), 1.6\n",
    "cournot_p = partial(get_cournot_problem, c, e)\n",
    "\n",
    "newton_method(cournot_p, np.array([0.2, 0.2]))"
   ]
  },
  {
   "cell_type": "markdown",
   "metadata": {},
   "source": [
    "## Quasi-Newton methods"
   ]
  },
  {
   "cell_type": "code",
   "execution_count": null,
   "metadata": {},
   "outputs": [],
   "source": []
  },
  {
   "cell_type": "code",
   "execution_count": null,
   "metadata": {},
   "outputs": [],
   "source": []
  },
  {
   "cell_type": "code",
   "execution_count": 8,
   "metadata": {},
   "outputs": [
    {
     "data": {
      "text/plain": [
       "     fun: array([4.86631603e-07, 7.63014862e-07])\n",
       " message: 'A solution was found at the specified tolerance.'\n",
       "     nit: 6\n",
       "  status: 1\n",
       " success: True\n",
       "       x: array([0.83956711, 0.68879583])"
      ]
     },
     "execution_count": 8,
     "metadata": {},
     "output_type": "execute_result"
    }
   ],
   "source": [
    "c, e = np.array([0.6, 0.8]), 1.6\n",
    "cournot_p = partial(get_cournot_problem, c, e, jac=False)\n",
    "\n",
    "root(cournot_p, np.array([0.8, 0.2]), method=\"broyden1\")"
   ]
  },
  {
   "cell_type": "code",
   "execution_count": 9,
   "metadata": {},
   "outputs": [
    {
     "data": {
      "text/plain": [
       "array([0.8395676 , 0.68879643])"
      ]
     },
     "execution_count": 9,
     "metadata": {},
     "output_type": "execute_result"
    }
   ],
   "source": [
    "cournot_p = partial(get_cournot_problem, c, e)\n",
    "newton_method(cournot_p, np.array([0.2, 0.2]))"
   ]
  },
  {
   "cell_type": "markdown",
   "metadata": {},
   "source": [
    "## Convergence rates"
   ]
  },
  {
   "cell_type": "code",
   "execution_count": null,
   "metadata": {},
   "outputs": [],
   "source": []
  },
  {
   "cell_type": "markdown",
   "metadata": {},
   "source": [
    "## Benchmarking exercise\n",
    "\n",
    "We now consider a more challenging task and compare the performance of `scipy`'s root finding algorithms."
   ]
  },
  {
   "cell_type": "code",
   "execution_count": 10,
   "metadata": {},
   "outputs": [],
   "source": [
    "def exponential_function(x):\n",
    "\n",
    "    p = x.shape[0]\n",
    "    rslt = np.tile(np.nan, p)\n",
    "\n",
    "    for i in range(p):\n",
    "        if i == 0:\n",
    "            rslt[i] = np.exp(x[i]) - 1\n",
    "        else:\n",
    "            rslt[i] = (i / 10) * (np.exp(x[i]) + x[i - 1] - 1)\n",
    "\n",
    "    return rslt\n",
    "\n",
    "\n",
    "METHODS = [\"broyden1\", \"broyden2\", \"anderson\", \"Krylov\"]\n",
    "\n",
    "OPTIONS = dict()\n",
    "OPTIONS[\"maxiter\"] = 500\n",
    "\n",
    "DIMENSION = 10"
   ]
  },
  {
   "cell_type": "code",
   "execution_count": 11,
   "metadata": {},
   "outputs": [],
   "source": [
    "df = pd.DataFrame(columns=[\"Algorithm\", \"Sample\", \"Sucess\", \"Iteration\"])"
   ]
  },
  {
   "cell_type": "code",
   "execution_count": 19,
   "metadata": {},
   "outputs": [
    {
     "name": "stderr",
     "output_type": "stream",
     "text": [
      "<ipython-input-10-09378506524e>:10: RuntimeWarning: overflow encountered in exp\n",
      "  rslt[i] = (i / 10) * (np.exp(x[i]) + x[i - 1] - 1)\n",
      "/home/peisenha/local/anaconda3/envs/ose-course-scientific-computing/lib/python3.8/site-packages/scipy/optimize/nonlin.py:771: RuntimeWarning: invalid value encountered in multiply\n",
      "  self.collapsed += c[:,None] * d[None,:].conj()\n",
      "<ipython-input-10-09378506524e>:8: RuntimeWarning: overflow encountered in exp\n",
      "  rslt[i] = np.exp(x[i]) - 1\n",
      "/home/peisenha/local/anaconda3/envs/ose-course-scientific-computing/lib/python3.8/site-packages/scipy/optimize/nonlin.py:1047: RuntimeWarning: invalid value encountered in true_divide\n",
      "  d = v / df_norm**2\n"
     ]
    }
   ],
   "source": [
    "counter = 0\n",
    "options = dict()\n",
    "for method in METHODS:\n",
    "\n",
    "    summary = dict()\n",
    "    summary[\"sccess\"] = 0\n",
    "    for _ in range(10):\n",
    "\n",
    "        counter += 1\n",
    "        x0 = np.random.uniform(size=DIMENSION)\n",
    "\n",
    "        try:\n",
    "            rslt = root(exponential_function, x0, method=method, options=options,)\n",
    "        except OverflowError:\n",
    "            rslt = dict()\n",
    "            rslt[\"success\"] = False\n",
    "            rslt[\"nit\"] = OPTIONS[\"maxiter\"]\n",
    "\n",
    "        summary[\"sccess\"] += rslt[\"success\"]\n",
    "\n",
    "        df.loc[counter] = [method, _, rslt[\"success\"], rslt[\"nit\"]]"
   ]
  },
  {
   "cell_type": "markdown",
   "metadata": {},
   "source": [
    "## Nonlinear complementarity problems"
   ]
  },
  {
   "cell_type": "code",
   "execution_count": 13,
   "metadata": {},
   "outputs": [
    {
     "data": {
      "text/plain": [
       "     fun: array([-9.47642148e-08, -1.08316782e-07])\n",
       " message: 'A solution was found at the specified tolerance.'\n",
       "     nit: 11\n",
       "  status: 1\n",
       " success: True\n",
       "       x: array([0.79370057, 1.00000011])"
      ]
     },
     "execution_count": 13,
     "metadata": {},
     "output_type": "execute_result"
    }
   ],
   "source": [
    "x0 = np.array([0.5, 0.5])\n",
    "a, b = np.array([[0.0, 0.0], [1.0, 1.0]])\n",
    "mcp_minmax(get_mcp_problem, x0, a, b)"
   ]
  },
  {
   "cell_type": "markdown",
   "metadata": {},
   "source": [
    "## Here I get different values for x than in the presentatoins, but the inplied quantities and prices are the same."
   ]
  },
  {
   "cell_type": "code",
   "execution_count": 14,
   "metadata": {},
   "outputs": [],
   "source": [
    "a = np.zeros(9)\n",
    "b = np.full(9, np.inf)\n",
    "x0 = np.zeros(9)\n",
    "x_sol = mcp_minmax(get_spacial_market, x0, a, b)\n",
    "quantities = x_sol[\"x\"].reshape(3, 3).round(4)"
   ]
  },
  {
   "cell_type": "code",
   "execution_count": 15,
   "metadata": {},
   "outputs": [
    {
     "data": {
      "text/plain": [
       "array([24.0001, 27.    , 30.    ])"
      ]
     },
     "execution_count": 15,
     "metadata": {},
     "output_type": "execute_result"
    }
   ],
   "source": [
    "if True:\n",
    "    A = np.array\n",
    "    as_ = A([9, 3, 18])\n",
    "    bs = A([1, 2, 1])\n",
    "    ad = A([42, 54, 51])\n",
    "    bd = A([2, 3, 1])\n",
    "    c = A([[0, 3, 9], [3, 0, 3], [6, 3, 0.0]])\n",
    "\n",
    "prices = as_ + bs * quantities.sum(0)\n",
    "prices"
   ]
  },
  {
   "cell_type": "code",
   "execution_count": 16,
   "metadata": {},
   "outputs": [],
   "source": [
    "exports = quantities.sum(0) - quantities.sum(1)"
   ]
  },
  {
   "cell_type": "code",
   "execution_count": null,
   "metadata": {},
   "outputs": [],
   "source": []
  },
  {
   "cell_type": "code",
   "execution_count": 17,
   "metadata": {},
   "outputs": [
    {
     "name": "stdout",
     "output_type": "stream",
     "text": [
      "Minmax      fun: array([0.01710019])\n",
      " message: 'The maximum number of iterations allowed has been reached.'\n",
      "     nit: 500\n",
      "  status: 2\n",
      " success: False\n",
      "       x: array([0.00355642])\n",
      "Fisher      fun: array([-7.74207365e-11])\n",
      " message: 'A solution was found at the specified tolerance.'\n",
      "     nit: 333\n",
      "  status: 1\n",
      " success: True\n",
      "       x: array([2.00498756])\n"
     ]
    }
   ],
   "source": [
    "a = np.zeros(1)\n",
    "# need ot make robust\n",
    "b = np.full(1, np.inf)\n",
    "x0 = np.zeros(1)\n",
    "\n",
    "x_sol = mcp_minmax(get_fischer_problem, x0, a, b)\n",
    "print(\"Minmax\", x_sol)\n",
    "\n",
    "x_sol = mcp_fisher(get_fischer_problem, x0, a, b)\n",
    "print(\"Fisher\", x_sol)"
   ]
  },
  {
   "cell_type": "code",
   "execution_count": null,
   "metadata": {},
   "outputs": [],
   "source": []
  },
  {
   "cell_type": "code",
   "execution_count": null,
   "metadata": {},
   "outputs": [],
   "source": []
  }
 ],
 "metadata": {
  "kernelspec": {
   "display_name": "Python 3",
   "language": "python",
   "name": "python3"
  },
  "language_info": {
   "codemirror_mode": {
    "name": "ipython",
    "version": 3
   },
   "file_extension": ".py",
   "mimetype": "text/x-python",
   "name": "python",
   "nbconvert_exporter": "python",
   "pygments_lexer": "ipython3",
   "version": "3.8.2"
  }
 },
 "nbformat": 4,
 "nbformat_minor": 4
}
