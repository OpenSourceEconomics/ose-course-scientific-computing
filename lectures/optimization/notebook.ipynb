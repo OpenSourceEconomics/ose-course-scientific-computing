{
 "cells": [
  {
   "cell_type": "markdown",
   "metadata": {},
   "source": [
    "# Numerical optimization"
   ]
  },
  {
   "cell_type": "code",
   "execution_count": 28,
   "metadata": {},
   "outputs": [],
   "source": [
    "import numpy as np\n",
    "from optimization_plots import plot_golden_search_problem\n",
    "from optimization_algorithms import golden_search\n",
    "\n",
    "from optimization_problems import get_nelder_mead_problem\n",
    "from optimization_problems import get_golden_problem\n",
    "\n",
    "from scipy.optimize import minimize"
   ]
  },
  {
   "cell_type": "markdown",
   "metadata": {},
   "source": [
    "## Derivative-free methods"
   ]
  },
  {
   "cell_type": "code",
   "execution_count": 29,
   "metadata": {},
   "outputs": [
    {
     "data": {
      "image/png": "[encoded data removed]",
      "text/plain": [
       "<Figure size 432x288 with 1 Axes>"
      ]
     },
     "metadata": {
      "needs_background": "light"
     },
     "output_type": "display_data"
    }
   ],
   "source": [
    "a, b = 0, 3\n",
    "golden_search(get_golden_problem, a, b)\n",
    "\n",
    "plot_golden_search_problem(get_golden_problem, a, b)"
   ]
  },
  {
   "cell_type": "code",
   "execution_count": 36,
   "metadata": {},
   "outputs": [
    {
     "data": {
      "text/plain": [
       "  allvecs: [array([1., 0.]), array([0.09662853, 0.45168572]), array([-0.12519053,  0.12834515]), array([-0.19655266,  0.05083954]), array([-0.19618211,  0.04642447]), array([-0.19064399,  0.04052553]), array([-0.17713179,  0.03092394]), array([-0.14794457,  0.01396595]), array([-0.08527449, -0.01684516]), array([-0.03475688, -0.03243977]), array([ 0.00720345, -0.03263856]), array([ 0.05914834, -0.01941824]), array([0.18477645, 0.0117066 ]), array([0.27967995, 0.07832235]), array([0.34533119, 0.10508519]), array([0.46353439, 0.18038021]), array([0.45795368, 0.18836326]), array([0.51400875, 0.25729295]), array([0.62039756, 0.3691665 ]), array([0.67801315, 0.4473273 ]), array([0.72842706, 0.53523275]), array([0.79766774, 0.6303247 ]), array([0.86049374, 0.72625973]), array([0.85821487, 0.72603582]), array([0.87628635, 0.76276815]), array([0.91583424, 0.83691666]), array([0.9611748 , 0.92001666]), array([0.97450013, 0.94875118]), array([0.99468653, 0.98847756]), array([0.99762531, 0.99543802]), array([0.99998214, 0.99994892]), array([0.99998589, 0.99997103]), array([0.9999954, 0.9999908])]\n",
       "      fun: 2.112634678287409e-11\n",
       " hess_inv: array([[0.49378146, 0.98756105],\n",
       "       [0.98756105, 1.98011829]])\n",
       "      jac: array([-2.90564340e-07,  2.72884382e-08])\n",
       "  message: 'Optimization terminated successfully.'\n",
       "     nfev: 111\n",
       "      nit: 32\n",
       "     njev: 37\n",
       "   status: 0\n",
       "  success: True\n",
       "        x: array([0.9999954, 0.9999908])"
      ]
     },
     "execution_count": 36,
     "metadata": {},
     "output_type": "execute_result"
    }
   ],
   "source": [
    "x0 = np.array([1.0, 0.0])\n",
    "options = dict()\n",
    "options[\"return_all\"] = True\n",
    "\n",
    "# Here we need to add a countour plot and add the iterates on it.\n",
    "minimize(get_nelder_mead_problem, x0, options=options)"
   ]
  },
  {
   "cell_type": "code",
   "execution_count": null,
   "metadata": {},
   "outputs": [],
   "source": []
  }
 ],
 "metadata": {
  "kernelspec": {
   "display_name": "Python 3",
   "language": "python",
   "name": "python3"
  },
  "language_info": {
   "codemirror_mode": {
    "name": "ipython",
    "version": 3
   },
   "file_extension": ".py",
   "mimetype": "text/x-python",
   "name": "python",
   "nbconvert_exporter": "python",
   "pygments_lexer": "ipython3",
   "version": "3.8.2"
  }
 },
 "nbformat": 4,
 "nbformat_minor": 4
}
