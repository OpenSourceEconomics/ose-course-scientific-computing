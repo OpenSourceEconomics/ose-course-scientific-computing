{
 "cells": [
  {
   "cell_type": "markdown",
   "metadata": {},
   "source": [
    "\n",
    "# Nonlinear equations"
   ]
  },
  {
   "cell_type": "code",
   "execution_count": null,
   "metadata": {},
   "outputs": [],
   "source": [
    "from functools import partial\n",
    "\n",
    "import pandas as pd\n",
    "import numpy as np\n",
    "\n",
    "\n",
    "from algorithms_nonlinear import bisect\n",
    "from plots_nonlinear import plot_bisect_example\n",
    "\n",
    "from algorithms_nonlinear import fixpoint\n",
    "from plots_nonlinear import plot_fixpoint_example\n",
    "\n",
    "from algorithms_nonlinear import newton_method\n",
    "from problems_nonlinear import get_cournot_problem\n",
    "\n",
    "from algorithms_nonlinear import mcp_minmax, mcp_fischer\n",
    "from problems_nonlinear import get_mcp_problem\n",
    "from problems_nonlinear import get_spacial_market\n",
    "from problems_nonlinear import get_fischer_problem\n",
    "\n",
    "from scipy import optimize"
   ]
  },
  {
   "cell_type": "markdown",
   "metadata": {},
   "source": [
    "## Bisection method\n",
    "\n",
    "We can start with some special cases to develop the basic building blocks for more complicated material"
   ]
  },
  {
   "cell_type": "code",
   "execution_count": null,
   "metadata": {},
   "outputs": [],
   "source": [
    "def f(x):\n",
    "    return x ** 3 - 2\n",
    "\n",
    "\n",
    "a, b = 1, 2\n",
    "bisect(f, a, b)"
   ]
  },
  {
   "cell_type": "code",
   "execution_count": null,
   "metadata": {},
   "outputs": [],
   "source": [
    "plot_bisect_example(f, a, b)"
   ]
  },
  {
   "cell_type": "markdown",
   "metadata": {},
   "source": [
    "## Function iteration"
   ]
  },
  {
   "cell_type": "code",
   "execution_count": null,
   "metadata": {},
   "outputs": [],
   "source": [
    "def f(x):\n",
    "    return np.sqrt(x)\n",
    "\n",
    "\n",
    "fixpoint(f, 2)"
   ]
  },
  {
   "cell_type": "code",
   "execution_count": null,
   "metadata": {},
   "outputs": [],
   "source": [
    "plot_fixpoint_example(f)"
   ]
  },
  {
   "cell_type": "markdown",
   "metadata": {},
   "source": [
    "## Newton's method"
   ]
  },
  {
   "cell_type": "code",
   "execution_count": null,
   "metadata": {},
   "outputs": [],
   "source": [
    "def f(x):\n",
    "    return x ** 3 - 2, 3 * x ** 2\n",
    "\n",
    "\n",
    "newton_method(f, np.array([1.0]))"
   ]
  },
  {
   "cell_type": "code",
   "execution_count": null,
   "metadata": {},
   "outputs": [],
   "source": [
    "c, e = np.array([0.6, 0.8]), 1.6\n",
    "cournot_p = partial(get_cournot_problem, c, e)\n",
    "\n",
    "newton_method(cournot_p, np.array([0.2, 0.2]))"
   ]
  },
  {
   "cell_type": "markdown",
   "metadata": {},
   "source": [
    "## Quasi-Newton methods"
   ]
  },
  {
   "cell_type": "code",
   "execution_count": null,
   "metadata": {},
   "outputs": [],
   "source": [
    "c, e = np.array([0.6, 0.8]), 1.6\n",
    "cournot_p = partial(get_cournot_problem, c, e, jac=False)\n",
    "\n",
    "optimize.root(cournot_p, np.array([0.8, 0.2]), method=\"broyden1\")"
   ]
  },
  {
   "cell_type": "code",
   "execution_count": null,
   "metadata": {},
   "outputs": [],
   "source": [
    "cournot_p = partial(get_cournot_problem, c, e)\n",
    "newton_method(cournot_p, np.array([0.2, 0.2]))"
   ]
  },
  {
   "cell_type": "markdown",
   "metadata": {},
   "source": [
    "## Convergence rates"
   ]
  },
  {
   "cell_type": "code",
   "execution_count": null,
   "metadata": {},
   "outputs": [],
   "source": []
  },
  {
   "cell_type": "markdown",
   "metadata": {},
   "source": [
    "## Benchmarking exercise\n",
    "\n",
    "We now consider a more challenging task and compare the performance of `scipy`'s root finding algorithms."
   ]
  },
  {
   "cell_type": "code",
   "execution_count": null,
   "metadata": {},
   "outputs": [],
   "source": [
    "def exponential_function(x):\n",
    "\n",
    "    p = x.shape[0]\n",
    "    rslt = np.tile(np.nan, p)\n",
    "\n",
    "    for i in range(p):\n",
    "        if i == 0:\n",
    "            rslt[i] = np.exp(x[i]) - 1\n",
    "        else:\n",
    "            rslt[i] = (i / 10) * (np.exp(x[i]) + x[i - 1] - 1)\n",
    "\n",
    "    return rslt\n",
    "\n",
    "\n",
    "METHODS = [\"broyden1\", \"broyden2\", \"anderson\", \"Krylov\"]\n",
    "\n",
    "OPTIONS = dict()\n",
    "OPTIONS[\"maxiter\"] = 500\n",
    "\n",
    "DIMENSION = 10"
   ]
  },
  {
   "cell_type": "code",
   "execution_count": null,
   "metadata": {},
   "outputs": [],
   "source": [
    "df = pd.DataFrame(columns=[\"Algorithm\", \"Sample\", \"Success\", \"Iteration\"])"
   ]
  },
  {
   "cell_type": "code",
   "execution_count": null,
   "metadata": {},
   "outputs": [],
   "source": [
    "counter = 0\n",
    "options = dict()\n",
    "for method in METHODS:\n",
    "\n",
    "    summary = dict()\n",
    "    summary[\"success\"] = 0\n",
    "    for _ in range(10):\n",
    "\n",
    "        counter += 1\n",
    "        x0 = np.random.uniform(size=DIMENSION)\n",
    "\n",
    "        try:\n",
    "            rslt = optimize.root(exponential_function, x0, method=method, options=options,)\n",
    "        except OverflowError:\n",
    "            rslt = dict()\n",
    "            rslt[\"success\"] = False\n",
    "            rslt[\"nit\"] = OPTIONS[\"maxiter\"]\n",
    "\n",
    "        summary[\"success\"] += rslt[\"success\"]\n",
    "\n",
    "        df.loc[counter] = [method, _, rslt[\"success\"], rslt[\"nit\"]]"
   ]
  },
  {
   "cell_type": "markdown",
   "metadata": {},
   "source": [
    "## Nonlinear complementarity problems"
   ]
  },
  {
   "cell_type": "code",
   "execution_count": null,
   "metadata": {},
   "outputs": [],
   "source": [
    "x0 = np.array([0.5, 0.5])\n",
    "a, b = np.array([[0.0, 0.0], [1.0, 1.0]])\n",
    "mcp_minmax(get_mcp_problem, x0, a, b)"
   ]
  },
  {
   "cell_type": "markdown",
   "metadata": {},
   "source": [
    "## Here I get different values for x than in the presentations, but the implied quantities and prices are the same."
   ]
  },
  {
   "cell_type": "code",
   "execution_count": null,
   "metadata": {},
   "outputs": [],
   "source": [
    "a = np.zeros(9)\n",
    "b = np.full(9, np.inf)\n",
    "x0 = np.zeros(9)\n",
    "x_sol = mcp_minmax(get_spacial_market, x0, a, b)\n",
    "quantities = x_sol[\"x\"].reshape(3, 3).round(4)"
   ]
  },
  {
   "cell_type": "code",
   "execution_count": null,
   "metadata": {},
   "outputs": [],
   "source": [
    "if True:\n",
    "    A = np.array\n",
    "    as_ = A([9, 3, 18])\n",
    "    bs = A([1, 2, 1])\n",
    "    ad = A([42, 54, 51])\n",
    "    bd = A([2, 3, 1])\n",
    "    c = A([[0, 3, 9], [3, 0, 3], [6, 3, 0.0]])\n",
    "\n",
    "prices = as_ + bs * quantities.sum(0)\n",
    "prices"
   ]
  },
  {
   "cell_type": "code",
   "execution_count": null,
   "metadata": {},
   "outputs": [],
   "source": [
    "exports = quantities.sum(0) - quantities.sum(1)"
   ]
  },
  {
   "cell_type": "code",
   "execution_count": null,
   "metadata": {},
   "outputs": [],
   "source": [
    "a = np.zeros(1)\n",
    "# need to make robust\n",
    "b = np.full(1, np.inf)\n",
    "x0 = np.zeros(1)\n",
    "\n",
    "x_sol = mcp_minmax(get_fischer_problem, x0, a, b)\n",
    "print(\"Minmax\", x_sol)\n",
    "\n",
    "x_sol = mcp_fischer(get_fischer_problem, x0, a, b)\n",
    "print(\"Fischer\", x_sol)"
   ]
  }
 ],
 "metadata": {
  "kernelspec": {
   "display_name": "Python 3",
   "language": "python",
   "name": "python3"
  },
  "language_info": {
   "codemirror_mode": {
    "name": "ipython",
    "version": 3
   },
   "file_extension": ".py",
   "mimetype": "text/x-python",
   "name": "python",
   "nbconvert_exporter": "python",
   "pygments_lexer": "ipython3",
   "version": "3.8.6"
  }
 },
 "nbformat": 4,
 "nbformat_minor": 4
}
