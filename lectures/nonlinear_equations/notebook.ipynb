{
 "cells": [
  {
   "cell_type": "markdown",
   "metadata": {},
   "source": [
    "# Nonlinear Equations"
   ]
  },
  {
   "cell_type": "markdown",
   "metadata": {},
   "source": [
    "<div class=\"alert alert-block alert-info\">\n",
    "    <img style=\"float: right;\" src=\"https://raw.githubusercontent.com/OpenSourceEconomics/ose-corporate-design/master/logos/OSE_logo_RGB.svg\" width=\"150\">\n",
    "    <u><h1>Setup</h1></u>\n",
    "</div>"
   ]
  },
  {
   "cell_type": "markdown",
   "metadata": {},
   "source": [
    "The nonlinear equation takes one of two forms.\n",
    "\n",
    "* **Rootfinding problem** Given a function $f: R^n \\mapsto R^n$,compute an $n$-vector $x^*$, called root of $f$, such that $f(x^*) = 0$.\n",
    "\n",
    "* **Fixed-point problem** Given a function $g: R^n \\mapsto R^n$, compute an $n$-vector $x^*$ called fixed point of $g$ such that $g(x^*) = x^*$\n",
    "\n",
    "The wto forms are equivalent.\n",
    "\n",
    "* A root of $f$ is a fixed-point of $g(x) = x - f(x)$.\n",
    "* A fixed-point of $g$ is a root ot $f(x) = x - g(x)$.\n",
    "\n",
    "Nonlinear equations arise naturally in economics:\n",
    "\n",
    "* Multicommodity market equilibrium models\n",
    "* Multiperson static game models \n",
    "* Unconstrained optimization models\n",
    "\n",
    "Nonlinear equations also arise indirectly when numerically solving economic models involving functional equations:\n",
    "\n",
    "* Dynamic optimization models \n",
    "* Rational expectations models \n",
    "* Arbitrage pricing models"
   ]
  },
  {
   "cell_type": "code",
   "execution_count": 24,
   "metadata": {},
   "outputs": [],
   "source": [
    "from temfpy.nonlinear_equations import exponential  # noqa: F401\n",
    "from scipy import optimize\n",
    "import pandas as pd\n",
    "import numpy as np\n",
    "\n",
    "from nonlinear_algorithms import bisect\n",
    "from nonlinear_plots import plot_bisection_test_function\n",
    "\n",
    "from nonlinear_algorithms import fixpoint\n",
    "from nonlinear_plots import plot_fixpoint_example\n",
    "from nonlinear_plots import plot_newton_pathological_example\n",
    "from nonlinear_plots import plot_convergence\n",
    "from nonlinear_plots import plot_newtons_method\n",
    "from nonlinear_plots import plot_secant_method\n",
    "\n",
    "from nonlinear_algorithms import newton_method\n",
    "\n",
    "from nonlinear_problems import bisection_test_function\n",
    "from nonlinear_problems import function_iteration_test_function\n",
    "from nonlinear_problems import newton_pathological_example"
   ]
  },
  {
   "cell_type": "markdown",
   "metadata": {},
   "source": [
    "<div class=\"alert alert-block alert-info\">\n",
    "    <u><h2>Bisection method</h2></u>\n",
    "</div>\n",
    "\n",
    "We start with the implementation (and testing) of the bisection algorithm.\n",
    "\n",
    "\n",
    "* The bisection method is perhaps the simplest and most robust method for computing the root of a continuous real-valued function defined on a bounded interval of the real line. The bisection method is based on the Intermediate Value Theorem, which asserts that if a continuous real-valued function defined on an interval assumes two distinct values, then it must assume all values in between. In particular, if $f$ is continuous, and $f (a)$ and $f (b)$ have different signs, then $f$ must have at least one root $x$ in $[a, b]$.\n",
    "\n",
    "* Each iteration begins with an interval known to contain or to bracket a root of $f$ , because the function has different signs at the interval endpoints. The interval is bisected into two subintervals of equal length. One of the two subintervals must have endpoints of different signs and thus must contain a root of $f$. This subinterval is taken as the new interval with which to begin the subsequent iteration. In this manner, a sequence of intervals is generated, each half the width of the preceding one, and each known to contain a root of $f$ . The process continues until the width of the bracketing interval containing a root shrinks below an acceptable convergence tolerance."
   ]
  },
  {
   "cell_type": "code",
   "execution_count": 25,
   "metadata": {},
   "outputs": [
    {
     "data": {
      "text/plain": [
       "\u001b[0;31mSignature:\u001b[0m \u001b[0mbisect\u001b[0m\u001b[0;34m(\u001b[0m\u001b[0mf\u001b[0m\u001b[0;34m,\u001b[0m \u001b[0ma\u001b[0m\u001b[0;34m,\u001b[0m \u001b[0mb\u001b[0m\u001b[0;34m,\u001b[0m \u001b[0mtolerance\u001b[0m\u001b[0;34m=\u001b[0m\u001b[0;36m1.5e-08\u001b[0m\u001b[0;34m)\u001b[0m\u001b[0;34m\u001b[0m\u001b[0;34m\u001b[0m\u001b[0m\n",
       "\u001b[0;31mSource:\u001b[0m   \n",
       "\u001b[0;32mdef\u001b[0m \u001b[0mbisect\u001b[0m\u001b[0;34m(\u001b[0m\u001b[0mf\u001b[0m\u001b[0;34m,\u001b[0m \u001b[0ma\u001b[0m\u001b[0;34m,\u001b[0m \u001b[0mb\u001b[0m\u001b[0;34m,\u001b[0m \u001b[0mtolerance\u001b[0m\u001b[0;34m=\u001b[0m\u001b[0;36m1.5e-8\u001b[0m\u001b[0;34m)\u001b[0m\u001b[0;34m:\u001b[0m\u001b[0;34m\u001b[0m\n",
       "\u001b[0;34m\u001b[0m    \u001b[0;34m\"\"\"Apply bisect method to root finding problem.\u001b[0m\n",
       "\u001b[0;34m\u001b[0m\n",
       "\u001b[0;34m    Iterative procedure to find the root of a continuous real-values function :math:`f(x)` defined\u001b[0m\n",
       "\u001b[0;34m    on a bounded interval of the real line. Define interval :math:`[a, b]` that is known to contain\u001b[0m\n",
       "\u001b[0;34m    or bracket the root of :math:`f` (i.e. the signs of :math:`f(a)` and :math:`f(b)` must differ).\u001b[0m\n",
       "\u001b[0;34m    The given interval :math:`[a, b]` is then repeatedly bisected into subintervals of equal length.\u001b[0m\n",
       "\u001b[0;34m    Each iteration, one of the two subintervals has endpoints of different signs (thus containing\u001b[0m\n",
       "\u001b[0;34m    the root of :math:`f`) and is again bisected until the size of the subinterval containing the\u001b[0m\n",
       "\u001b[0;34m    root reaches a specified convergence tolerance.\u001b[0m\n",
       "\u001b[0;34m\u001b[0m\n",
       "\u001b[0;34m    Parameters\u001b[0m\n",
       "\u001b[0;34m    ----------\u001b[0m\n",
       "\u001b[0;34m    f : callable\u001b[0m\n",
       "\u001b[0;34m        Continuous, real-valued, univariate function :math:`f(x)`.\u001b[0m\n",
       "\u001b[0;34m    a : int or float\u001b[0m\n",
       "\u001b[0;34m        Lower bound :math:`a` for :math:`x \\\\in [a,b]`.\u001b[0m\n",
       "\u001b[0;34m    b : int or float\u001b[0m\n",
       "\u001b[0;34m        Upper bound :math:`a` for :math:`x \\\\in [a,b]`. Select :math:`a` and :math:`b` so\u001b[0m\n",
       "\u001b[0;34m        that :math:`f(b)` has different sign than :math:`f(a)`.\u001b[0m\n",
       "\u001b[0;34m    tolerance : float\u001b[0m\n",
       "\u001b[0;34m        Convergence tolerance.\u001b[0m\n",
       "\u001b[0;34m\u001b[0m\n",
       "\u001b[0;34m    Returns\u001b[0m\n",
       "\u001b[0;34m    -------\u001b[0m\n",
       "\u001b[0;34m    x : float\u001b[0m\n",
       "\u001b[0;34m        Solution to the root finding problem within specified tolerance.\u001b[0m\n",
       "\u001b[0;34m\u001b[0m\n",
       "\u001b[0;34m    Examples\u001b[0m\n",
       "\u001b[0;34m    --------\u001b[0m\n",
       "\u001b[0;34m    >>> x = bisect(f=lambda x : x ** 3 - 2, a=1, b=2)[0]\u001b[0m\n",
       "\u001b[0;34m    >>> round(x, 4)\u001b[0m\n",
       "\u001b[0;34m    1.2599\u001b[0m\n",
       "\u001b[0;34m\u001b[0m\n",
       "\u001b[0;34m    \"\"\"\u001b[0m\u001b[0;34m\u001b[0m\n",
       "\u001b[0;34m\u001b[0m    \u001b[0;31m# Get sign for f(a).\u001b[0m\u001b[0;34m\u001b[0m\n",
       "\u001b[0;34m\u001b[0m    \u001b[0ms\u001b[0m \u001b[0;34m=\u001b[0m \u001b[0mnp\u001b[0m\u001b[0;34m.\u001b[0m\u001b[0msign\u001b[0m\u001b[0;34m(\u001b[0m\u001b[0mf\u001b[0m\u001b[0;34m(\u001b[0m\u001b[0ma\u001b[0m\u001b[0;34m)\u001b[0m\u001b[0;34m)\u001b[0m\u001b[0;34m\u001b[0m\n",
       "\u001b[0;34m\u001b[0m\u001b[0;34m\u001b[0m\n",
       "\u001b[0;34m\u001b[0m    \u001b[0;31m# Get staring values for x and interval length.\u001b[0m\u001b[0;34m\u001b[0m\n",
       "\u001b[0;34m\u001b[0m    \u001b[0mx\u001b[0m \u001b[0;34m=\u001b[0m \u001b[0;34m(\u001b[0m\u001b[0ma\u001b[0m \u001b[0;34m+\u001b[0m \u001b[0mb\u001b[0m\u001b[0;34m)\u001b[0m \u001b[0;34m/\u001b[0m \u001b[0;36m2\u001b[0m\u001b[0;34m\u001b[0m\n",
       "\u001b[0;34m\u001b[0m    \u001b[0md\u001b[0m \u001b[0;34m=\u001b[0m \u001b[0;34m(\u001b[0m\u001b[0mb\u001b[0m \u001b[0;34m-\u001b[0m \u001b[0ma\u001b[0m\u001b[0;34m)\u001b[0m \u001b[0;34m/\u001b[0m \u001b[0;36m2\u001b[0m\u001b[0;34m\u001b[0m\n",
       "\u001b[0;34m\u001b[0m\u001b[0;34m\u001b[0m\n",
       "\u001b[0;34m\u001b[0m    \u001b[0;31m# Continue operation as long as d is above the convergence tolerance threshold.\u001b[0m\u001b[0;34m\u001b[0m\n",
       "\u001b[0;34m\u001b[0m    \u001b[0;31m# Update x by adding or subtracting value of d depending on sign of f.\u001b[0m\u001b[0;34m\u001b[0m\n",
       "\u001b[0;34m\u001b[0m    \u001b[0mxvals\u001b[0m \u001b[0;34m=\u001b[0m \u001b[0;34m[\u001b[0m\u001b[0mx\u001b[0m\u001b[0;34m]\u001b[0m\u001b[0;34m\u001b[0m\n",
       "\u001b[0;34m\u001b[0m\u001b[0;34m\u001b[0m\n",
       "\u001b[0;34m\u001b[0m    \u001b[0;32mwhile\u001b[0m \u001b[0md\u001b[0m \u001b[0;34m>\u001b[0m \u001b[0mtolerance\u001b[0m\u001b[0;34m:\u001b[0m\u001b[0;34m\u001b[0m\n",
       "\u001b[0;34m\u001b[0m        \u001b[0md\u001b[0m \u001b[0;34m=\u001b[0m \u001b[0md\u001b[0m \u001b[0;34m/\u001b[0m \u001b[0;36m2\u001b[0m\u001b[0;34m\u001b[0m\n",
       "\u001b[0;34m\u001b[0m        \u001b[0;32mif\u001b[0m \u001b[0ms\u001b[0m \u001b[0;34m==\u001b[0m \u001b[0mnp\u001b[0m\u001b[0;34m.\u001b[0m\u001b[0msign\u001b[0m\u001b[0;34m(\u001b[0m\u001b[0mf\u001b[0m\u001b[0;34m(\u001b[0m\u001b[0mx\u001b[0m\u001b[0;34m)\u001b[0m\u001b[0;34m)\u001b[0m\u001b[0;34m:\u001b[0m\u001b[0;34m\u001b[0m\n",
       "\u001b[0;34m\u001b[0m            \u001b[0mx\u001b[0m \u001b[0;34m+=\u001b[0m \u001b[0md\u001b[0m\u001b[0;34m\u001b[0m\n",
       "\u001b[0;34m\u001b[0m        \u001b[0;32melse\u001b[0m\u001b[0;34m:\u001b[0m\u001b[0;34m\u001b[0m\n",
       "\u001b[0;34m\u001b[0m            \u001b[0mx\u001b[0m \u001b[0;34m-=\u001b[0m \u001b[0md\u001b[0m\u001b[0;34m\u001b[0m\n",
       "\u001b[0;34m\u001b[0m\u001b[0;34m\u001b[0m\n",
       "\u001b[0;34m\u001b[0m        \u001b[0mxvals\u001b[0m\u001b[0;34m.\u001b[0m\u001b[0mappend\u001b[0m\u001b[0;34m(\u001b[0m\u001b[0mx\u001b[0m\u001b[0;34m)\u001b[0m\u001b[0;34m\u001b[0m\n",
       "\u001b[0;34m\u001b[0m\u001b[0;34m\u001b[0m\n",
       "\u001b[0;34m\u001b[0m    \u001b[0;32mreturn\u001b[0m \u001b[0mx\u001b[0m\u001b[0;34m,\u001b[0m \u001b[0mnp\u001b[0m\u001b[0;34m.\u001b[0m\u001b[0marray\u001b[0m\u001b[0;34m(\u001b[0m\u001b[0mxvals\u001b[0m\u001b[0;34m)\u001b[0m\u001b[0;34m\u001b[0m\u001b[0;34m\u001b[0m\u001b[0m\n",
       "\u001b[0;31mFile:\u001b[0m      ~/Documents/Econ/ose/ose-course-scientific-computing/lectures/nonlinear_equations/nonlinear_algorithms.py\n",
       "\u001b[0;31mType:\u001b[0m      function\n"
      ]
     },
     "metadata": {},
     "output_type": "display_data"
    }
   ],
   "source": [
    "??bisect"
   ]
  },
  {
   "cell_type": "markdown",
   "metadata": {},
   "source": [
    "Let's visualize a test function to get a sense of what result can should expect."
   ]
  },
  {
   "cell_type": "code",
   "execution_count": 26,
   "metadata": {},
   "outputs": [
    {
     "data": {
      "text/plain": [
       "\u001b[0;31mSignature:\u001b[0m \u001b[0mbisection_test_function\u001b[0m\u001b[0;34m(\u001b[0m\u001b[0mx\u001b[0m\u001b[0;34m)\u001b[0m\u001b[0;34m\u001b[0m\u001b[0;34m\u001b[0m\u001b[0m\n",
       "\u001b[0;31mSource:\u001b[0m   \n",
       "\u001b[0;32mdef\u001b[0m \u001b[0mbisection_test_function\u001b[0m\u001b[0;34m(\u001b[0m\u001b[0mx\u001b[0m\u001b[0;34m)\u001b[0m\u001b[0;34m:\u001b[0m\u001b[0;34m\u001b[0m\n",
       "\u001b[0;34m\u001b[0m    \u001b[0;34m\"\"\"Get test function for bisection.\"\"\"\u001b[0m\u001b[0;34m\u001b[0m\n",
       "\u001b[0;34m\u001b[0m    \u001b[0;32mreturn\u001b[0m \u001b[0mx\u001b[0m \u001b[0;34m**\u001b[0m \u001b[0;36m3\u001b[0m \u001b[0;34m-\u001b[0m \u001b[0;36m2\u001b[0m\u001b[0;34m\u001b[0m\u001b[0;34m\u001b[0m\u001b[0m\n",
       "\u001b[0;31mFile:\u001b[0m      ~/Documents/Econ/ose/ose-course-scientific-computing/lectures/nonlinear_equations/nonlinear_problems.py\n",
       "\u001b[0;31mType:\u001b[0m      function\n"
      ]
     },
     "metadata": {},
     "output_type": "display_data"
    }
   ],
   "source": [
    "??bisection_test_function"
   ]
  },
  {
   "cell_type": "code",
   "execution_count": 27,
   "metadata": {},
   "outputs": [
    {
     "data": {
      "text/plain": [
       "\u001b[0;31mSignature:\u001b[0m \u001b[0mplot_bisection_test_function\u001b[0m\u001b[0;34m(\u001b[0m\u001b[0mf\u001b[0m\u001b[0;34m)\u001b[0m\u001b[0;34m\u001b[0m\u001b[0;34m\u001b[0m\u001b[0m\n",
       "\u001b[0;31mSource:\u001b[0m   \n",
       "\u001b[0;32mdef\u001b[0m \u001b[0mplot_bisection_test_function\u001b[0m\u001b[0;34m(\u001b[0m\u001b[0mf\u001b[0m\u001b[0;34m)\u001b[0m\u001b[0;34m:\u001b[0m\u001b[0;34m\u001b[0m\n",
       "\u001b[0;34m\u001b[0m    \u001b[0;34m\"\"\"Plot bisect example.\"\"\"\u001b[0m\u001b[0;34m\u001b[0m\n",
       "\u001b[0;34m\u001b[0m    \u001b[0mfig\u001b[0m\u001b[0;34m,\u001b[0m \u001b[0max\u001b[0m \u001b[0;34m=\u001b[0m \u001b[0mplt\u001b[0m\u001b[0;34m.\u001b[0m\u001b[0msubplots\u001b[0m\u001b[0;34m(\u001b[0m\u001b[0;34m)\u001b[0m\u001b[0;34m\u001b[0m\n",
       "\u001b[0;34m\u001b[0m    \u001b[0mgrid\u001b[0m \u001b[0;34m=\u001b[0m \u001b[0mnp\u001b[0m\u001b[0;34m.\u001b[0m\u001b[0mlinspace\u001b[0m\u001b[0;34m(\u001b[0m\u001b[0;36m1\u001b[0m\u001b[0;34m,\u001b[0m \u001b[0;36m2\u001b[0m\u001b[0;34m)\u001b[0m\u001b[0;34m\u001b[0m\n",
       "\u001b[0;34m\u001b[0m\u001b[0;34m\u001b[0m\n",
       "\u001b[0;34m\u001b[0m    \u001b[0mvalues\u001b[0m \u001b[0;34m=\u001b[0m \u001b[0;34m[\u001b[0m\u001b[0;34m]\u001b[0m\u001b[0;34m\u001b[0m\n",
       "\u001b[0;34m\u001b[0m    \u001b[0;32mfor\u001b[0m \u001b[0mvalue\u001b[0m \u001b[0;32min\u001b[0m \u001b[0mgrid\u001b[0m\u001b[0;34m:\u001b[0m\u001b[0;34m\u001b[0m\n",
       "\u001b[0;34m\u001b[0m        \u001b[0mvalues\u001b[0m\u001b[0;34m.\u001b[0m\u001b[0mappend\u001b[0m\u001b[0;34m(\u001b[0m\u001b[0mf\u001b[0m\u001b[0;34m(\u001b[0m\u001b[0mvalue\u001b[0m\u001b[0;34m)\u001b[0m\u001b[0;34m)\u001b[0m\u001b[0;34m\u001b[0m\n",
       "\u001b[0;34m\u001b[0m    \u001b[0max\u001b[0m\u001b[0;34m.\u001b[0m\u001b[0mplot\u001b[0m\u001b[0;34m(\u001b[0m\u001b[0mgrid\u001b[0m\u001b[0;34m,\u001b[0m \u001b[0mvalues\u001b[0m\u001b[0;34m)\u001b[0m\u001b[0;34m\u001b[0m\n",
       "\u001b[0;34m\u001b[0m\u001b[0;34m\u001b[0m\n",
       "\u001b[0;34m\u001b[0m    \u001b[0max\u001b[0m\u001b[0;34m.\u001b[0m\u001b[0maxes\u001b[0m\u001b[0;34m.\u001b[0m\u001b[0maxhline\u001b[0m\u001b[0;34m(\u001b[0m\u001b[0;36m0\u001b[0m\u001b[0;34m,\u001b[0m \u001b[0mcolor\u001b[0m\u001b[0;34m=\u001b[0m\u001b[0;34m\"grey\"\u001b[0m\u001b[0;34m)\u001b[0m\u001b[0;34m\u001b[0m\n",
       "\u001b[0;34m\u001b[0m    \u001b[0max\u001b[0m\u001b[0;34m.\u001b[0m\u001b[0mset_ylabel\u001b[0m\u001b[0;34m(\u001b[0m\u001b[0;34m\"f(x)\"\u001b[0m\u001b[0;34m)\u001b[0m\u001b[0;34m\u001b[0m\n",
       "\u001b[0;34m\u001b[0m    \u001b[0max\u001b[0m\u001b[0;34m.\u001b[0m\u001b[0mset_xlabel\u001b[0m\u001b[0;34m(\u001b[0m\u001b[0;34m\"x\"\u001b[0m\u001b[0;34m)\u001b[0m\u001b[0;34m\u001b[0m\u001b[0;34m\u001b[0m\u001b[0m\n",
       "\u001b[0;31mFile:\u001b[0m      ~/Documents/Econ/ose/ose-course-scientific-computing/lectures/nonlinear_equations/nonlinear_plots.py\n",
       "\u001b[0;31mType:\u001b[0m      function\n"
      ]
     },
     "metadata": {},
     "output_type": "display_data"
    }
   ],
   "source": [
    "??plot_bisection_test_function"
   ]
  },
  {
   "cell_type": "markdown",
   "metadata": {},
   "source": [
    "* The ability to vectorize functions using [np.vectorize](https://numpy.org/doc/stable/reference/generated/numpy.vectorize.html) comes in very handy when evaluating functions over a grid. However, be aware that this is a simple replacement of a `for loop` and thus does not improve performance. "
   ]
  },
  {
   "cell_type": "markdown",
   "metadata": {},
   "source": [
    "We are ready to go ..."
   ]
  },
  {
   "cell_type": "code",
   "execution_count": 28,
   "metadata": {},
   "outputs": [
    {
     "data": {
      "image/png": "[encoded data removed]",
      "text/plain": [
       "<Figure size 432x288 with 1 Axes>"
      ]
     },
     "metadata": {
      "needs_background": "light"
     },
     "output_type": "display_data"
    }
   ],
   "source": [
    "plot_bisection_test_function(bisection_test_function)"
   ]
  },
  {
   "cell_type": "markdown",
   "metadata": {},
   "source": [
    "Now we are ready to check our implementation and investigate the sensitivity of results to alternative tuning parameter."
   ]
  },
  {
   "cell_type": "code",
   "execution_count": 29,
   "metadata": {},
   "outputs": [
    {
     "name": "stdout",
     "output_type": "stream",
     "text": [
      "The root of our test function is 1.26.\n"
     ]
    }
   ],
   "source": [
    "lower, upper = 1, 2\n",
    "x, xvals = bisect(bisection_test_function, lower, upper)\n",
    "print(f\"The root of our test function is {x:3.2f}.\")"
   ]
  },
  {
   "cell_type": "markdown",
   "metadata": {},
   "source": [
    " <div class=\"alert alert-warning\">\n",
    "    <h3>Exercises</h3>  \n",
    "     <ul>\n",
    "      <li>Write a short test that ensures that in fact found a root of the function. </li>\n",
    "      <li>Create a simple plot that shows each iterate of $x$ and label the two axis appropriately. </li>\n",
    "    </ul> \n",
    "</div>"
   ]
  },
  {
   "cell_type": "markdown",
   "metadata": {},
   "source": [
    "<div class=\"alert alert-block alert-info\">\n",
    "    <u><h2>Function iteration</h2></u>\n",
    "</div>\n",
    "\n",
    "* Function iteration is a relatively simple technique that may be used to compute a fixed point $x = g(x)$ of a function from $R^n$ to $R^n$. The technique is also applicable to a rootfinding problem $f(x) = 0$ by recasting it as the equivalent fixed-point problem $g(x) = x - f (x)$. Function iteration begins with the analyst supplying a guess $x^{(0)}$ for the fixed point of $g$. Subsequent iterates are generated using the simple iteration rule\n",
    "\n",
    "$$\n",
    "\\begin{align*}\n",
    "x^{(k+1)} \\leftarrow g(x^{(k)})\n",
    "\\end{align*}\n",
    "$$\n",
    "\n",
    "Since $g$ is continuous, if the iterates converge, they converge to a fixed point of $g$."
   ]
  },
  {
   "cell_type": "code",
   "execution_count": 30,
   "metadata": {},
   "outputs": [
    {
     "data": {
      "text/plain": [
       "\u001b[0;31mSignature:\u001b[0m \u001b[0mfixpoint\u001b[0m\u001b[0;34m(\u001b[0m\u001b[0mf\u001b[0m\u001b[0;34m,\u001b[0m \u001b[0mx0\u001b[0m\u001b[0;34m,\u001b[0m \u001b[0mtolerance\u001b[0m\u001b[0;34m=\u001b[0m\u001b[0;36m0.0001\u001b[0m\u001b[0;34m)\u001b[0m\u001b[0;34m\u001b[0m\u001b[0;34m\u001b[0m\u001b[0m\n",
       "\u001b[0;31mSource:\u001b[0m   \n",
       "\u001b[0;32mdef\u001b[0m \u001b[0mfixpoint\u001b[0m\u001b[0;34m(\u001b[0m\u001b[0mf\u001b[0m\u001b[0;34m,\u001b[0m \u001b[0mx0\u001b[0m\u001b[0;34m,\u001b[0m \u001b[0mtolerance\u001b[0m\u001b[0;34m=\u001b[0m\u001b[0;36m10e-5\u001b[0m\u001b[0;34m)\u001b[0m\u001b[0;34m:\u001b[0m\u001b[0;34m\u001b[0m\n",
       "\u001b[0;34m\u001b[0m    \u001b[0;34m\"\"\"Compute fixed point using function iteration.\u001b[0m\n",
       "\u001b[0;34m\u001b[0m\n",
       "\u001b[0;34m    Parameters\u001b[0m\n",
       "\u001b[0;34m    ----------\u001b[0m\n",
       "\u001b[0;34m    f : callable\u001b[0m\n",
       "\u001b[0;34m        Function :math:`f(x)`.\u001b[0m\n",
       "\u001b[0;34m    x0 : float\u001b[0m\n",
       "\u001b[0;34m        Initial guess for fixed point (starting value for function iteration).\u001b[0m\n",
       "\u001b[0;34m    tolerance : float\u001b[0m\n",
       "\u001b[0;34m        Convergence tolerance (tolerance < 1).\u001b[0m\n",
       "\u001b[0;34m\u001b[0m\n",
       "\u001b[0;34m    Returns\u001b[0m\n",
       "\u001b[0;34m    -------\u001b[0m\n",
       "\u001b[0;34m    x : float\u001b[0m\n",
       "\u001b[0;34m        Solution of function iteration.\u001b[0m\n",
       "\u001b[0;34m\u001b[0m\n",
       "\u001b[0;34m    Examples\u001b[0m\n",
       "\u001b[0;34m    --------\u001b[0m\n",
       "\u001b[0;34m    >>> import numpy as np\u001b[0m\n",
       "\u001b[0;34m    >>> x = fixpoint(f=lambda x : x**0.5, x0=0.4, tolerance=1e-10)[0]\u001b[0m\n",
       "\u001b[0;34m    >>> np.allclose(x, 1)\u001b[0m\n",
       "\u001b[0;34m    True\u001b[0m\n",
       "\u001b[0;34m\u001b[0m\n",
       "\u001b[0;34m    \"\"\"\u001b[0m\u001b[0;34m\u001b[0m\n",
       "\u001b[0;34m\u001b[0m    \u001b[0me\u001b[0m \u001b[0;34m=\u001b[0m \u001b[0;36m1\u001b[0m\u001b[0;34m\u001b[0m\n",
       "\u001b[0;34m\u001b[0m    \u001b[0mxvals\u001b[0m \u001b[0;34m=\u001b[0m \u001b[0;34m[\u001b[0m\u001b[0mx0\u001b[0m\u001b[0;34m]\u001b[0m\u001b[0;34m\u001b[0m\n",
       "\u001b[0;34m\u001b[0m\u001b[0;34m\u001b[0m\n",
       "\u001b[0;34m\u001b[0m    \u001b[0;32mwhile\u001b[0m \u001b[0me\u001b[0m \u001b[0;34m>\u001b[0m \u001b[0mtolerance\u001b[0m\u001b[0;34m:\u001b[0m\u001b[0;34m\u001b[0m\n",
       "\u001b[0;34m\u001b[0m        \u001b[0;31m# Fixed point equation.\u001b[0m\u001b[0;34m\u001b[0m\n",
       "\u001b[0;34m\u001b[0m        \u001b[0mx\u001b[0m \u001b[0;34m=\u001b[0m \u001b[0mf\u001b[0m\u001b[0;34m(\u001b[0m\u001b[0mx0\u001b[0m\u001b[0;34m)\u001b[0m\u001b[0;34m\u001b[0m\n",
       "\u001b[0;34m\u001b[0m        \u001b[0;31m# Error at the current step.\u001b[0m\u001b[0;34m\u001b[0m\n",
       "\u001b[0;34m\u001b[0m        \u001b[0me\u001b[0m \u001b[0;34m=\u001b[0m \u001b[0mnp\u001b[0m\u001b[0;34m.\u001b[0m\u001b[0mlinalg\u001b[0m\u001b[0;34m.\u001b[0m\u001b[0mnorm\u001b[0m\u001b[0;34m(\u001b[0m\u001b[0mx0\u001b[0m \u001b[0;34m-\u001b[0m \u001b[0mx\u001b[0m\u001b[0;34m)\u001b[0m\u001b[0;34m\u001b[0m\n",
       "\u001b[0;34m\u001b[0m        \u001b[0mx0\u001b[0m \u001b[0;34m=\u001b[0m \u001b[0mx\u001b[0m\u001b[0;34m\u001b[0m\n",
       "\u001b[0;34m\u001b[0m        \u001b[0mxvals\u001b[0m\u001b[0;34m.\u001b[0m\u001b[0mappend\u001b[0m\u001b[0;34m(\u001b[0m\u001b[0mx0\u001b[0m\u001b[0;34m)\u001b[0m\u001b[0;34m\u001b[0m\n",
       "\u001b[0;34m\u001b[0m    \u001b[0;32mreturn\u001b[0m \u001b[0mx\u001b[0m\u001b[0;34m,\u001b[0m \u001b[0mnp\u001b[0m\u001b[0;34m.\u001b[0m\u001b[0marray\u001b[0m\u001b[0;34m(\u001b[0m\u001b[0mxvals\u001b[0m\u001b[0;34m)\u001b[0m\u001b[0;34m\u001b[0m\u001b[0;34m\u001b[0m\u001b[0m\n",
       "\u001b[0;31mFile:\u001b[0m      ~/Documents/Econ/ose/ose-course-scientific-computing/lectures/nonlinear_equations/nonlinear_algorithms.py\n",
       "\u001b[0;31mType:\u001b[0m      function\n"
      ]
     },
     "metadata": {},
     "output_type": "display_data"
    }
   ],
   "source": [
    "??fixpoint"
   ]
  },
  {
   "cell_type": "markdown",
   "metadata": {},
   "source": [
    "Let's visualize a test function to get a sense of what result can should expect.\n"
   ]
  },
  {
   "cell_type": "code",
   "execution_count": 31,
   "metadata": {},
   "outputs": [
    {
     "data": {
      "text/plain": [
       "\u001b[0;31mSignature:\u001b[0m \u001b[0mfunction_iteration_test_function\u001b[0m\u001b[0;34m(\u001b[0m\u001b[0mx\u001b[0m\u001b[0;34m)\u001b[0m\u001b[0;34m\u001b[0m\u001b[0;34m\u001b[0m\u001b[0m\n",
       "\u001b[0;31mSource:\u001b[0m   \n",
       "\u001b[0;32mdef\u001b[0m \u001b[0mfunction_iteration_test_function\u001b[0m\u001b[0;34m(\u001b[0m\u001b[0mx\u001b[0m\u001b[0;34m)\u001b[0m\u001b[0;34m:\u001b[0m\u001b[0;34m\u001b[0m\n",
       "\u001b[0;34m\u001b[0m    \u001b[0;34m\"\"\"Get test function for function iteration.\"\"\"\u001b[0m\u001b[0;34m\u001b[0m\n",
       "\u001b[0;34m\u001b[0m    \u001b[0;32mreturn\u001b[0m \u001b[0mnp\u001b[0m\u001b[0;34m.\u001b[0m\u001b[0msqrt\u001b[0m\u001b[0;34m(\u001b[0m\u001b[0mx\u001b[0m\u001b[0;34m)\u001b[0m\u001b[0;34m\u001b[0m\u001b[0;34m\u001b[0m\u001b[0m\n",
       "\u001b[0;31mFile:\u001b[0m      ~/Documents/Econ/ose/ose-course-scientific-computing/lectures/nonlinear_equations/nonlinear_problems.py\n",
       "\u001b[0;31mType:\u001b[0m      function\n"
      ]
     },
     "metadata": {},
     "output_type": "display_data"
    }
   ],
   "source": [
    "??function_iteration_test_function"
   ]
  },
  {
   "cell_type": "code",
   "execution_count": 32,
   "metadata": {},
   "outputs": [
    {
     "data": {
      "image/png": "[encoded data removed]",
      "text/plain": [
       "<Figure size 432x288 with 1 Axes>"
      ]
     },
     "metadata": {
      "needs_background": "light"
     },
     "output_type": "display_data"
    }
   ],
   "source": [
    "plot_fixpoint_example(function_iteration_test_function)"
   ]
  },
  {
   "cell_type": "markdown",
   "metadata": {},
   "source": [
    "Let's run and test our implementation."
   ]
  },
  {
   "cell_type": "code",
   "execution_count": 33,
   "metadata": {},
   "outputs": [
    {
     "name": "stdout",
     "output_type": "stream",
     "text": [
      "\n",
      "Arrays are not almost equal to 7 decimals\n",
      " ACTUAL: 0.9999965046343594\n",
      " DESIRED: 0.9999930092809364\n"
     ]
    }
   ],
   "source": [
    "x = fixpoint(function_iteration_test_function, 0.4, tolerance=1e-5)[0]\n",
    "\n",
    "try:\n",
    "    np.testing.assert_almost_equal(function_iteration_test_function(x), x)\n",
    "except AssertionError as msg:\n",
    "    print(msg)"
   ]
  },
  {
   "cell_type": "markdown",
   "metadata": {},
   "source": [
    "* This is an example of using a try-except block to explicitly handle the `AssertionError`. Details on exception handling in Python, see this [Wiki](https://wiki.python.org/moin/HandlingExceptions) for some more examples. \n",
    "\n",
    "We set two parameters manually, which one is it? How about choosing different starting values?"
   ]
  },
  {
   "cell_type": "code",
   "execution_count": 34,
   "metadata": {},
   "outputs": [],
   "source": [
    "for x0 in np.linspace(0.1, 0.9):\n",
    "    x = fixpoint(function_iteration_test_function, x0, tolerance=1e-5)[0]\n",
    "    try:\n",
    "        np.testing.assert_almost_equal(function_iteration_test_function(x), x)\n",
    "        print(\"Success for x0 {x0}\")\n",
    "    except AssertionError:\n",
    "        pass"
   ]
  },
  {
   "cell_type": "markdown",
   "metadata": {},
   "source": [
    "Let's look at the `tolerance` setting instead."
   ]
  },
  {
   "cell_type": "markdown",
   "metadata": {},
   "source": [
    " <div class=\"alert alert-warning\">\n",
    "    <h3>Exercises</h3>  \n",
    "     <ul>\n",
    "      <li>Find the fixpoint of $g(x) = \\sqrt{x + 0.2}$. </li>\n",
    "      <li>How many iterations does the function iteration need? Does it depend on the starting value? </li>\n",
    "    </ul> \n",
    "</div>"
   ]
  },
  {
   "cell_type": "markdown",
   "metadata": {},
   "source": [
    "<div class=\"alert alert-block alert-info\">\n",
    "    <u><h2>Newton's method</h2></u>\n",
    "</div>\n"
   ]
  },
  {
   "cell_type": "markdown",
   "metadata": {},
   "source": [
    "Newton's method is an algorithm for computing the root of a function $f : R^n \\mapsto R^n$.  Guess an initial value $x_0$ and successively form the iterates below until the iterate converge.\n",
    "\n",
    "$$\n",
    "\\begin{align*}\n",
    "x_{k + 1} = x_k - f^\\prime(x_k)^{-1} f(x_k)\n",
    "\\end{align*}\n",
    "$$\n",
    "\n",
    "If $n = 1$, the iteration rule takes the simpler form \n",
    "\n",
    "$$\n",
    "\\begin{align*}\n",
    "x_{k + 1} = x_k - \\frac{f(x_k)}{f^\\prime(x_k)}.\n",
    "\\end{align*}\n",
    "$$\n",
    "\n",
    "Newton's method employs a strategy of successive linearization. The strategy calls for the nonlinear function $f$ to be approximated by a sequence of linear functions whose roots are easily computed and, ideally, converge to the root of $f$. In particular, the $k + 1^{th}$ iterate \n",
    "\n",
    "$$\n",
    "\\begin{align*}\n",
    "x_{k+1} = x_k - f^\\prime(x_k)^{-1}f(x_k) \n",
    "\\end{align*}\n",
    "$$\n",
    "\n",
    "is the root of the Taylor linear approximation of $f$ around the preceding iterate $x_k$.\n",
    "\n",
    "$$\n",
    "\\begin{align*}\n",
    "f(x) \\approx f(x_k) + f^\\prime(x_k)(x - x_k).\n",
    "\\end{align*}\n",
    "$$\n"
   ]
  },
  {
   "cell_type": "code",
   "execution_count": 35,
   "metadata": {},
   "outputs": [
    {
     "data": {
      "image/png": "[encoded data removed]",
      "text/plain": [
       "<Figure size 720x432 with 1 Axes>"
      ]
     },
     "metadata": {
      "needs_background": "light"
     },
     "output_type": "display_data"
    }
   ],
   "source": [
    "plot_newtons_method()"
   ]
  },
  {
   "cell_type": "markdown",
   "metadata": {},
   "source": [
    "<img src=\"material/fig-newton-method.png\" width=600 height=600 />"
   ]
  },
  {
   "cell_type": "markdown",
   "metadata": {},
   "source": [
    " <div class=\"alert alert-warning\">\n",
    "    <h3>Exercises</h3>  \n",
    "     <ul>\n",
    "      <li>Plot the function $f(x) = x^4 - 2$ and provide a rough estimate of its fix point. </li>\n",
    "      <li>Let's compute the root of the function using Newton's method by employing the proper iteration rule: $$\\begin{align*}\n",
    "x_{k + 1} = x_k - \\frac{f(x_k)}{f^\\prime(c_k)} = x_k - \\frac{x^4_k - 2}{4x^3_k}\n",
    "\\end{align*}$$\n",
    "         </li>\n",
    "    </ul> \n",
    "</div>\n",
    "\n",
    "\n"
   ]
  },
  {
   "cell_type": "markdown",
   "metadata": {},
   "source": [
    "Let' look at a more general implementation."
   ]
  },
  {
   "cell_type": "code",
   "execution_count": 36,
   "metadata": {},
   "outputs": [
    {
     "data": {
      "text/plain": [
       "\u001b[0;31mSignature:\u001b[0m \u001b[0mnewton_method\u001b[0m\u001b[0;34m(\u001b[0m\u001b[0mf\u001b[0m\u001b[0;34m,\u001b[0m \u001b[0mx0\u001b[0m\u001b[0;34m,\u001b[0m \u001b[0mtolerance\u001b[0m\u001b[0;34m=\u001b[0m\u001b[0;36m1.5e-08\u001b[0m\u001b[0;34m)\u001b[0m\u001b[0;34m\u001b[0m\u001b[0;34m\u001b[0m\u001b[0m\n",
       "\u001b[0;31mSource:\u001b[0m   \n",
       "\u001b[0;32mdef\u001b[0m \u001b[0mnewton_method\u001b[0m\u001b[0;34m(\u001b[0m\u001b[0mf\u001b[0m\u001b[0;34m,\u001b[0m \u001b[0mx0\u001b[0m\u001b[0;34m,\u001b[0m \u001b[0mtolerance\u001b[0m\u001b[0;34m=\u001b[0m\u001b[0;36m1.5e-8\u001b[0m\u001b[0;34m)\u001b[0m\u001b[0;34m:\u001b[0m\u001b[0;34m\u001b[0m\n",
       "\u001b[0;34m\u001b[0m    \u001b[0;34m\"\"\"Apply Newton's method to solving nonlinear equation.\u001b[0m\n",
       "\u001b[0;34m\u001b[0m\n",
       "\u001b[0;34m    Solve equation using successive linearization, which replaces the nonlinear problem\u001b[0m\n",
       "\u001b[0;34m    by a sequence of linear problems whose solutions converge to the solution of the nonlinear\u001b[0m\n",
       "\u001b[0;34m    problem.\u001b[0m\n",
       "\u001b[0;34m\u001b[0m\n",
       "\u001b[0;34m    Parameters\u001b[0m\n",
       "\u001b[0;34m    ----------\u001b[0m\n",
       "\u001b[0;34m    f : callable\u001b[0m\n",
       "\u001b[0;34m        (Univariate) function :math:`f(x)`.\u001b[0m\n",
       "\u001b[0;34m    x0 : float\u001b[0m\n",
       "\u001b[0;34m        Initial guess for the root of :math:`f`.\u001b[0m\n",
       "\u001b[0;34m    tolerance : float\u001b[0m\n",
       "\u001b[0;34m        Convergence tolerance.\u001b[0m\n",
       "\u001b[0;34m\u001b[0m\n",
       "\u001b[0;34m    Returns\u001b[0m\n",
       "\u001b[0;34m    -------\u001b[0m\n",
       "\u001b[0;34m    xn : float\u001b[0m\n",
       "\u001b[0;34m        Solution of function iteration.\u001b[0m\n",
       "\u001b[0;34m\u001b[0m\n",
       "\u001b[0;34m    \"\"\"\u001b[0m\u001b[0;34m\u001b[0m\n",
       "\u001b[0;34m\u001b[0m    \u001b[0mx0\u001b[0m \u001b[0;34m=\u001b[0m \u001b[0mnp\u001b[0m\u001b[0;34m.\u001b[0m\u001b[0matleast_1d\u001b[0m\u001b[0;34m(\u001b[0m\u001b[0mx0\u001b[0m\u001b[0;34m)\u001b[0m\u001b[0;34m\u001b[0m\n",
       "\u001b[0;34m\u001b[0m\u001b[0;34m\u001b[0m\n",
       "\u001b[0;34m\u001b[0m    \u001b[0;31m# This is tailored to the univariate case.\u001b[0m\u001b[0;34m\u001b[0m\n",
       "\u001b[0;34m\u001b[0m    \u001b[0;32massert\u001b[0m \u001b[0mx0\u001b[0m\u001b[0;34m.\u001b[0m\u001b[0mshape\u001b[0m\u001b[0;34m[\u001b[0m\u001b[0;36m0\u001b[0m\u001b[0;34m]\u001b[0m \u001b[0;34m==\u001b[0m \u001b[0;36m1\u001b[0m\u001b[0;34m\u001b[0m\n",
       "\u001b[0;34m\u001b[0m\u001b[0;34m\u001b[0m\n",
       "\u001b[0;34m\u001b[0m    \u001b[0mxn\u001b[0m \u001b[0;34m=\u001b[0m \u001b[0mx0\u001b[0m\u001b[0;34m.\u001b[0m\u001b[0mcopy\u001b[0m\u001b[0;34m(\u001b[0m\u001b[0;34m)\u001b[0m\u001b[0;34m\u001b[0m\n",
       "\u001b[0;34m\u001b[0m\u001b[0;34m\u001b[0m\n",
       "\u001b[0;34m\u001b[0m    \u001b[0;32mwhile\u001b[0m \u001b[0;32mTrue\u001b[0m\u001b[0;34m:\u001b[0m\u001b[0;34m\u001b[0m\n",
       "\u001b[0;34m\u001b[0m        \u001b[0mfxn\u001b[0m\u001b[0;34m,\u001b[0m \u001b[0mgxn\u001b[0m \u001b[0;34m=\u001b[0m \u001b[0mf\u001b[0m\u001b[0;34m(\u001b[0m\u001b[0mxn\u001b[0m\u001b[0;34m)\u001b[0m\u001b[0;34m\u001b[0m\n",
       "\u001b[0;34m\u001b[0m        \u001b[0;32mif\u001b[0m \u001b[0mnp\u001b[0m\u001b[0;34m.\u001b[0m\u001b[0mlinalg\u001b[0m\u001b[0;34m.\u001b[0m\u001b[0mnorm\u001b[0m\u001b[0;34m(\u001b[0m\u001b[0mfxn\u001b[0m\u001b[0;34m)\u001b[0m \u001b[0;34m<\u001b[0m \u001b[0mtolerance\u001b[0m\u001b[0;34m:\u001b[0m\u001b[0;34m\u001b[0m\n",
       "\u001b[0;34m\u001b[0m            \u001b[0;32mreturn\u001b[0m \u001b[0mxn\u001b[0m\u001b[0;34m\u001b[0m\n",
       "\u001b[0;34m\u001b[0m        \u001b[0;32melse\u001b[0m\u001b[0;34m:\u001b[0m\u001b[0;34m\u001b[0m\n",
       "\u001b[0;34m\u001b[0m            \u001b[0mxn\u001b[0m \u001b[0;34m=\u001b[0m \u001b[0mxn\u001b[0m \u001b[0;34m-\u001b[0m \u001b[0mfxn\u001b[0m \u001b[0;34m/\u001b[0m \u001b[0mgxn\u001b[0m\u001b[0;34m\u001b[0m\u001b[0;34m\u001b[0m\u001b[0m\n",
       "\u001b[0;31mFile:\u001b[0m      ~/Documents/Econ/ose/ose-course-scientific-computing/lectures/nonlinear_equations/nonlinear_algorithms.py\n",
       "\u001b[0;31mType:\u001b[0m      function\n"
      ]
     },
     "metadata": {},
     "output_type": "display_data"
    }
   ],
   "source": [
    "??newton_method"
   ]
  },
  {
   "cell_type": "markdown",
   "metadata": {},
   "source": [
    " <div class=\"alert alert-success\">\n",
    "    <h3>Questions</h3>  \n",
    "     <ul>\n",
    "  <li>Whare are the important generalizations?</li>\n",
    "    </ul> \n",
    "</div>"
   ]
  },
  {
   "cell_type": "markdown",
   "metadata": {},
   "source": [
    "Let' explore one last test function to test the interface of our function and learn something about [private functions](https://dbader.org/blog/meaning-of-underscores-in-python) in the process.\n",
    "\n",
    "$$\n",
    "\\begin{align*}\n",
    "f(x) = x^3 - 2\n",
    "\\end{align*}\n",
    "$$"
   ]
  },
  {
   "cell_type": "code",
   "execution_count": 37,
   "metadata": {},
   "outputs": [],
   "source": [
    "def _jacobian(x):\n",
    "    return 3 * x ** 2\n",
    "\n",
    "\n",
    "def _value(x):\n",
    "    return x ** 3 - 2\n",
    "\n",
    "\n",
    "def f(x):\n",
    "    return _value(x), _jacobian(x)\n",
    "\n",
    "\n",
    "x = newton_method(f, 0.4)\n",
    "np.testing.assert_almost_equal(f(x)[0], 0)"
   ]
  },
  {
   "cell_type": "markdown",
   "metadata": {},
   "source": [
    "A potential shortcoming of Newton's method  is that the derivatives required for the Jacobian may not be available may be difficult to calculate analytically, or time-consuming to approximate numerically ... or that it might actually fail or result in cycles.\n",
    "\n",
    "Consider the following pathological example which has a unique root at $0$.\n",
    "\n",
    "$$\n",
    "\\begin{align*}\n",
    "f(x) = x^{\\frac{1}{3}} \\, e^{-x^2}\n",
    "\\end{align*}\n",
    "$$"
   ]
  },
  {
   "cell_type": "code",
   "execution_count": 38,
   "metadata": {},
   "outputs": [
    {
     "data": {
      "text/plain": [
       "\u001b[0;31mSignature:\u001b[0m \u001b[0mnewton_pathological_example\u001b[0m\u001b[0;34m(\u001b[0m\u001b[0mx\u001b[0m\u001b[0;34m)\u001b[0m\u001b[0;34m\u001b[0m\u001b[0;34m\u001b[0m\u001b[0m\n",
       "\u001b[0;31mSource:\u001b[0m   \n",
       "\u001b[0;32mdef\u001b[0m \u001b[0mnewton_pathological_example\u001b[0m\u001b[0;34m(\u001b[0m\u001b[0mx\u001b[0m\u001b[0;34m)\u001b[0m\u001b[0;34m:\u001b[0m\u001b[0;34m\u001b[0m\n",
       "\u001b[0;34m\u001b[0m    \u001b[0;34m\"\"\"Get Newton Pathological example.\"\"\"\u001b[0m\u001b[0;34m\u001b[0m\n",
       "\u001b[0;34m\u001b[0m    \u001b[0mfval\u001b[0m \u001b[0;34m=\u001b[0m \u001b[0mnewton_pathological_example_fval\u001b[0m\u001b[0;34m(\u001b[0m\u001b[0mx\u001b[0m\u001b[0;34m)\u001b[0m\u001b[0;34m\u001b[0m\n",
       "\u001b[0;34m\u001b[0m    \u001b[0mfjac\u001b[0m \u001b[0;34m=\u001b[0m \u001b[0mnewton_pathological_example_fjac\u001b[0m\u001b[0;34m(\u001b[0m\u001b[0mx\u001b[0m\u001b[0;34m,\u001b[0m \u001b[0mnewton_pathological_example_fval\u001b[0m\u001b[0;34m)\u001b[0m\u001b[0;34m\u001b[0m\n",
       "\u001b[0;34m\u001b[0m    \u001b[0;32mreturn\u001b[0m \u001b[0mfval\u001b[0m\u001b[0;34m,\u001b[0m \u001b[0mfjac\u001b[0m\u001b[0;34m\u001b[0m\u001b[0;34m\u001b[0m\u001b[0m\n",
       "\u001b[0;31mFile:\u001b[0m      ~/Documents/Econ/ose/ose-course-scientific-computing/lectures/nonlinear_equations/nonlinear_problems.py\n",
       "\u001b[0;31mType:\u001b[0m      function\n"
      ]
     },
     "metadata": {},
     "output_type": "display_data"
    }
   ],
   "source": [
    "??newton_pathological_example"
   ]
  },
  {
   "cell_type": "code",
   "execution_count": 39,
   "metadata": {},
   "outputs": [
    {
     "data": {
      "image/png": "[encoded data removed]",
      "text/plain": [
       "<Figure size 432x288 with 1 Axes>"
      ]
     },
     "metadata": {
      "needs_background": "light"
     },
     "output_type": "display_data"
    }
   ],
   "source": [
    "plot_newton_pathological_example(newton_pathological_example)"
   ]
  },
  {
   "cell_type": "markdown",
   "metadata": {},
   "source": [
    "We can derive the Newton iterates as:\n",
    "\n",
    "$$\n",
    "\\begin{align*}\n",
    "x_{n + 1} = x_n\\left(1 - \\frac{3}{1 - 6 x_n^2 }\\right)\n",
    "\\end{align*}\n",
    "$$"
   ]
  },
  {
   "cell_type": "markdown",
   "metadata": {},
   "source": [
    " <div class=\"alert alert-success\">\n",
    "    <h3>Questions</h3>  \n",
    "     <ul>\n",
    "  <li> What happens when you apply Newton's method to solve this function for different starting values?</li>\n",
    "  <li> How does the Newton iterate look like for very small and very large values?</li>\n",
    "    </ul> \n",
    "</div>"
   ]
  },
  {
   "cell_type": "markdown",
   "metadata": {},
   "source": [
    "Another problems might be cycles.\n",
    "\n",
    "<img src=\"material/fig-newton-cycles.png\" width=600 height=600 />"
   ]
  },
  {
   "cell_type": "markdown",
   "metadata": {},
   "source": [
    "<div class=\"alert alert-block alert-info\">\n",
    "    <u><h2>Quasi-Newton method</h2></u>\n",
    "</div>\n",
    "\n",
    "\n",
    "Quasi-Newton methods replace the Jacobian in Newton’s method with an estimate that is easier to compute. Specifically, quasi-Newton methods use an iteration rule\n",
    "\n",
    "$$\n",
    "\\begin{align*}\n",
    "x_{k+1} = x_k - A^{-1}_k f(x_k)\n",
    "\\end{align*}\n",
    "$$\n",
    "\n",
    "where $A_k$ is an estimate of the Jacobian $f^\\prime(x_k)$. \n",
    "\n",
    "The **secant method** replaces the derivative in Newton’s method with the estimate\n",
    "\n",
    "$$\n",
    "\\begin{align*}\n",
    "f^\\prime(x_k) \\approx \\frac{f(x_k) - f(x_{k-1})}{x_k - x_{k-1}}\n",
    "\\end{align*}\n",
    "$$\n",
    "\n",
    "The secant method is so called because it approximates the function $f$ using *secant* lines drawn through successive pairs of points on its graph.\n",
    "\n",
    "\n",
    "<img src=\"material/fig-secant-method.png\" width=600 height=600 />"
   ]
  },
  {
   "cell_type": "code",
   "execution_count": 40,
   "metadata": {},
   "outputs": [
    {
     "data": {
      "image/png": "[encoded data removed]",
      "text/plain": [
       "<Figure size 720x432 with 1 Axes>"
      ]
     },
     "metadata": {
      "needs_background": "light"
     },
     "output_type": "display_data"
    }
   ],
   "source": [
    "plot_secant_method()"
   ]
  },
  {
   "cell_type": "markdown",
   "metadata": {},
   "source": [
    "Let's start with a crude implementation to make sure we understood the setup correctly. We will use this to show the `lambda` functions, see [here](https://realpython.com/python-lambda/https://realpython.com/python-lambda/) for details."
   ]
  },
  {
   "cell_type": "code",
   "execution_count": 41,
   "metadata": {},
   "outputs": [
    {
     "name": "stdout",
     "output_type": "stream",
     "text": [
      "Root of our example function 1.189\n"
     ]
    }
   ],
   "source": [
    "f = lambda z: z ** 4 - 2  # noqa: E731\n",
    "x, xlag = 2.3, 2.4\n",
    "\n",
    "for it in range(50):\n",
    "    d = (f(x) - f(xlag)) / (x - xlag)\n",
    "    x, xlag = x - f(x) / d, x\n",
    "    if abs(x - xlag) < 1.0e-10:\n",
    "        break\n",
    "\n",
    "print(f\"Root of our example function {x:5.3f}\")"
   ]
  },
  {
   "cell_type": "markdown",
   "metadata": {},
   "source": [
    "**Broyden’s method** is the most popular multivariate generalization of the univariate secant method. **Broyden’s method** replaces the Jacobian in Newton’s method with an estimate $A_k$ that is updated by making the smallest possible change (measured by the Frobenius norm) that is consistent with the secant condition:\n",
    "\n",
    "$$\n",
    "\\begin{align*}\n",
    "f(x_{k + 1}) - f(x_k) = A_{k+1} (x_{k+1} - x_k ).\n",
    "\\end{align*}\n",
    "$$\n",
    "This yields the iteration rule\n",
    "$$\n",
    "\\begin{align*}\n",
    "A_{k+1} = A_k + (f(x_{k+1}) - f(x_k ) - A_k d_k)\\frac{d^\\prime_k}{d^\\prime_k d_k}\n",
    "\\end{align*}\n",
    "$$\n",
    "where $d_k = x_{k+1} - x_k$. Often $A_0$ is equal to the numerical approximation of $f$ at $x_0$. The remarkable feature of Broyden's method is that it is able to generate a reasonable approximation to the Jacobian matrix with no additional evaluations of the function. This approach is readily available in [scipy](https://docs.scipy.org/doc/scipy/reference/generated/scipy.optimize.broyden1.html).\n",
    "\n",
    "\n"
   ]
  },
  {
   "cell_type": "code",
   "execution_count": 42,
   "metadata": {},
   "outputs": [
    {
     "name": "stdout",
     "output_type": "stream",
     "text": [
      "Root of our example function 1.189\n"
     ]
    }
   ],
   "source": [
    "rslt = optimize.root(f, 1.0, method=\"broyden1\")\n",
    "print(f\"Root of our example function {rslt['x']:5.3f}\")"
   ]
  },
  {
   "cell_type": "markdown",
   "metadata": {},
   "source": [
    "### Cournot problem\n",
    "\n",
    "Consider a market with two firms producing the same good. Firm $i$'s total cost of production is a function of the quantity $q_i$ it produces.\n",
    "\n",
    "$$\n",
    "\\begin{align*}\n",
    "C_i(q_i) = \\frac{\\beta_i}{2} q_i^2\n",
    "\\end{align*}\n",
    "$$\n",
    "The market clearing price is a function of the total quantity produced by both firms.\n",
    "$$\n",
    "\\begin{align*}\n",
    "P(q_1 + q_2) = (q_1 - q_2)^{-\\alpha}\n",
    "\\end{align*}\n",
    "$$\n",
    "Firm $i$ chooses production $q_i$ so as to maximize its profit taking the other firm's output as given.\n",
    "$$\n",
    "\\begin{align*}\n",
    "\\pi_i (q_1 , q_2 ) = P (q_1 + q_2 )q_i - C_i (q_i ).\n",
    "\\end{align*}\n",
    "$$\n",
    "Thus in equilibrium,\n",
    "$$\n",
    "\\begin{align*}\n",
    "\\frac{\\partial \\pi_i}{\\partial q_i} = (q_1 - q_2)^{-\\alpha} - \\alpha (q_1 + q_2)^{-(\\alpha + 1) } q_i  - \\beta_i q_i = 0\\qquad\\text{for}\\quad i = 1, 2.\n",
    "\\end{align*}\n",
    "$$"
   ]
  },
  {
   "cell_type": "markdown",
   "metadata": {},
   "source": [
    " <div class=\"alert alert-warning\">\n",
    "    <h3>Exercises</h3>  \n",
    "     <ul>\n",
    "      <li>Compute the market equilibrium quantities using Broyden's method for $\\alpha =  0.6$ and $\\beta= [0.6, 0.8]$.</li>\n",
    "    </ul> \n",
    "</div>\n",
    "\n",
    "\n"
   ]
  },
  {
   "cell_type": "markdown",
   "metadata": {},
   "source": [
    "<img src=\"material/fig-convergence-path.png\" width=600 height=600 />"
   ]
  },
  {
   "cell_type": "markdown",
   "metadata": {},
   "source": [
    "<div class=\"alert alert-block alert-info\">\n",
    "    <u><h2>Choosing a solution method</h2></u>\n",
    "</div>\n",
    "\n",
    "We now consider a more challenging task and compare the performance of `scipy`'s root finding algorithms. We will use one of [temfpy](https://temfpy.readthedocs.io/en/latest/index.html)'s test functions for this."
   ]
  },
  {
   "cell_type": "code",
   "execution_count": 43,
   "metadata": {},
   "outputs": [
    {
     "data": {
      "text/plain": [
       "\u001b[0;31mSignature:\u001b[0m \u001b[0mexponential\u001b[0m\u001b[0;34m(\u001b[0m\u001b[0mx\u001b[0m\u001b[0;34m,\u001b[0m \u001b[0ma\u001b[0m\u001b[0;34m=\u001b[0m\u001b[0;36m10\u001b[0m\u001b[0;34m,\u001b[0m \u001b[0mb\u001b[0m\u001b[0;34m=\u001b[0m\u001b[0;36m1\u001b[0m\u001b[0;34m,\u001b[0m \u001b[0mjac\u001b[0m\u001b[0;34m=\u001b[0m\u001b[0;32mFalse\u001b[0m\u001b[0;34m)\u001b[0m\u001b[0;34m\u001b[0m\u001b[0;34m\u001b[0m\u001b[0m\n",
       "\u001b[0;31mSource:\u001b[0m   \n",
       "\u001b[0;32mdef\u001b[0m \u001b[0mexponential\u001b[0m\u001b[0;34m(\u001b[0m\u001b[0mx\u001b[0m\u001b[0;34m,\u001b[0m \u001b[0ma\u001b[0m\u001b[0;34m=\u001b[0m\u001b[0;36m10\u001b[0m\u001b[0;34m,\u001b[0m \u001b[0mb\u001b[0m\u001b[0;34m=\u001b[0m\u001b[0;36m1\u001b[0m\u001b[0;34m,\u001b[0m \u001b[0mjac\u001b[0m\u001b[0;34m=\u001b[0m\u001b[0;32mFalse\u001b[0m\u001b[0;34m)\u001b[0m\u001b[0;34m:\u001b[0m\u001b[0;34m\u001b[0m\n",
       "\u001b[0;34m\u001b[0m    \u001b[0;34mr\"\"\"Exponential function.\u001b[0m\n",
       "\u001b[0;34m\u001b[0m\n",
       "\u001b[0;34m    .. math::\u001b[0m\n",
       "\u001b[0;34m        x &\\mapsto \\begin{pmatrix} F_1(x) & F_2(x) & \\dots & F_p(x) \\end{pmatrix}^T \\\\\u001b[0m\n",
       "\u001b[0;34m        F_1(x) &= e^{x_1} - b \\\\\u001b[0m\n",
       "\u001b[0;34m        F_i(x) &= \\frac{i}{a} (e^{x_i} +x_{i-1}) - b \\\\\u001b[0m\n",
       "\u001b[0;34m        & \\quad i = 2,3, \\dots, p\u001b[0m\n",
       "\u001b[0;34m\u001b[0m\n",
       "\u001b[0;34m    Parameters\u001b[0m\n",
       "\u001b[0;34m    ----------\u001b[0m\n",
       "\u001b[0;34m    x : array_like\u001b[0m\n",
       "\u001b[0;34m        Input domain with dimension :math:`p`.\u001b[0m\n",
       "\u001b[0;34m    a : float, optional\u001b[0m\n",
       "\u001b[0;34m        The default value is 10.\u001b[0m\n",
       "\u001b[0;34m    b : float, optional\u001b[0m\n",
       "\u001b[0;34m        The default value is 1.\u001b[0m\n",
       "\u001b[0;34m    jac : bool\u001b[0m\n",
       "\u001b[0;34m          If True, an additional array containing the numerically\u001b[0m\n",
       "\u001b[0;34m          and the analytically derived jacobian are returned.\u001b[0m\n",
       "\u001b[0;34m          The default is False.\u001b[0m\n",
       "\u001b[0;34m\u001b[0m\n",
       "\u001b[0;34m    Returns\u001b[0m\n",
       "\u001b[0;34m    -------\u001b[0m\n",
       "\u001b[0;34m    array_like\u001b[0m\n",
       "\u001b[0;34m        Output domain\u001b[0m\n",
       "\u001b[0;34m    array_like\u001b[0m\n",
       "\u001b[0;34m        Only if :math:`jac = True`.\u001b[0m\n",
       "\u001b[0;34m        Tuple containing the analytically derived Jacobian and the\u001b[0m\n",
       "\u001b[0;34m        numerically derived Jacobian.\u001b[0m\n",
       "\u001b[0;34m\u001b[0m\n",
       "\u001b[0;34m    References\u001b[0m\n",
       "\u001b[0;34m    ----------\u001b[0m\n",
       "\u001b[0;34m    .. [V2009] Varadhan, R., and Gilbert, P. D. (2009). BB: An R Package for Solving a Large\u001b[0m\n",
       "\u001b[0;34m               System of Nonlinear Equations and for Optimizing a High-Dimensional Nonlinear\u001b[0m\n",
       "\u001b[0;34m               Objective Function. *Journal of Statistical Software*, 32(1):1–26, 2009.\u001b[0m\n",
       "\u001b[0;34m\u001b[0m\n",
       "\u001b[0;34m    Examples\u001b[0m\n",
       "\u001b[0;34m    --------\u001b[0m\n",
       "\u001b[0;34m    >>> import numpy as np\u001b[0m\n",
       "\u001b[0;34m    >>> from temfpy.nonlinear_equations import exponential\u001b[0m\n",
       "\u001b[0;34m    >>>\u001b[0m\n",
       "\u001b[0;34m    >>> np.random.seed(123)\u001b[0m\n",
       "\u001b[0;34m    >>> p = np.random.randint(1,20)\u001b[0m\n",
       "\u001b[0;34m    >>> x = np.zeros(p)\u001b[0m\n",
       "\u001b[0;34m    >>> np.allclose(exponential(x), np.zeros(p))\u001b[0m\n",
       "\u001b[0;34m    True\u001b[0m\n",
       "\u001b[0;34m    \"\"\"\u001b[0m\u001b[0;34m\u001b[0m\n",
       "\u001b[0;34m\u001b[0m\u001b[0;34m\u001b[0m\n",
       "\u001b[0;34m\u001b[0m    \u001b[0;32mif\u001b[0m \u001b[0mjac\u001b[0m \u001b[0;32mis\u001b[0m \u001b[0;32mFalse\u001b[0m\u001b[0;34m:\u001b[0m\u001b[0;34m\u001b[0m\n",
       "\u001b[0;34m\u001b[0m        \u001b[0;32mreturn\u001b[0m \u001b[0m_exponential_val\u001b[0m\u001b[0;34m(\u001b[0m\u001b[0mx\u001b[0m\u001b[0;34m,\u001b[0m \u001b[0ma\u001b[0m\u001b[0;34m=\u001b[0m\u001b[0ma\u001b[0m\u001b[0;34m,\u001b[0m \u001b[0mb\u001b[0m\u001b[0;34m=\u001b[0m\u001b[0mb\u001b[0m\u001b[0;34m)\u001b[0m\u001b[0;34m\u001b[0m\n",
       "\u001b[0;34m\u001b[0m    \u001b[0;32mif\u001b[0m \u001b[0mjac\u001b[0m \u001b[0;32mis\u001b[0m \u001b[0;32mTrue\u001b[0m\u001b[0;34m:\u001b[0m\u001b[0;34m\u001b[0m\n",
       "\u001b[0;34m\u001b[0m        \u001b[0;32mreturn\u001b[0m \u001b[0m_exponential_val\u001b[0m\u001b[0;34m(\u001b[0m\u001b[0mx\u001b[0m\u001b[0;34m,\u001b[0m \u001b[0ma\u001b[0m\u001b[0;34m=\u001b[0m\u001b[0ma\u001b[0m\u001b[0;34m,\u001b[0m \u001b[0mb\u001b[0m\u001b[0;34m=\u001b[0m\u001b[0mb\u001b[0m\u001b[0;34m)\u001b[0m\u001b[0;34m,\u001b[0m \u001b[0m_exponential_jacobian\u001b[0m\u001b[0;34m(\u001b[0m\u001b[0mx\u001b[0m\u001b[0;34m,\u001b[0m \u001b[0ma\u001b[0m\u001b[0;34m=\u001b[0m\u001b[0ma\u001b[0m\u001b[0;34m)\u001b[0m\u001b[0;34m\u001b[0m\u001b[0;34m\u001b[0m\u001b[0m\n",
       "\u001b[0;31mFile:\u001b[0m      ~/bin/anaconda3/envs/ose-course-scientific-computing/lib/python3.8/site-packages/temfpy/nonlinear_equations.py\n",
       "\u001b[0;31mType:\u001b[0m      function\n"
      ]
     },
     "metadata": {},
     "output_type": "display_data"
    }
   ],
   "source": [
    "??exponential"
   ]
  },
  {
   "cell_type": "markdown",
   "metadata": {},
   "source": [
    "Now let's see which of the algorithms performs best for a ten dimensional problem."
   ]
  },
  {
   "cell_type": "code",
   "execution_count": 44,
   "metadata": {},
   "outputs": [],
   "source": [
    "METHODS = [\"broyden1\", \"broyden2\", \"anderson\", \"Krylov\"]\n",
    "DIMENSION = 10\n",
    "PROBLEMS = 5"
   ]
  },
  {
   "cell_type": "markdown",
   "metadata": {},
   "source": [
    "We are ready to run our benchmarking exercise."
   ]
  },
  {
   "cell_type": "code",
   "execution_count": 45,
   "metadata": {},
   "outputs": [
    {
     "name": "stderr",
     "output_type": "stream",
     "text": [
      "/home/anmearge/bin/anaconda3/envs/ose-course-scientific-computing/lib/python3.8/site-packages/scipy/optimize/nonlin.py:1001: RuntimeWarning: invalid value encountered in true_divide\n",
      "  d = v / vdot(df, v)\n",
      "/home/anmearge/bin/anaconda3/envs/ose-course-scientific-computing/lib/python3.8/site-packages/scipy/optimize/nonlin.py:1001: RuntimeWarning: divide by zero encountered in true_divide\n",
      "  d = v / vdot(df, v)\n",
      "/home/anmearge/bin/anaconda3/envs/ose-course-scientific-computing/lib/python3.8/site-packages/scipy/optimize/nonlin.py:771: RuntimeWarning: invalid value encountered in multiply\n",
      "  self.collapsed += c[:,None] * d[None,:].conj()\n"
     ]
    }
   ],
   "source": [
    "def exponential_function(x):\n",
    "\n",
    "    x = np.atleast_1d(x)\n",
    "\n",
    "    p = x.shape[0]\n",
    "    rslt = np.tile(np.nan, p)\n",
    "\n",
    "    for i in range(p):\n",
    "        xi = np.clip(x[i], None, 300)\n",
    "        if i == 0:\n",
    "            rslt[i] = np.exp(xi) - 1\n",
    "        else:\n",
    "            rslt[i] = (i / 10) * (np.exp(xi) + x[i - 1] - 1)\n",
    "\n",
    "    return rslt\n",
    "\n",
    "\n",
    "np.testing.assert_almost_equal(exponential_function([0, 0]), [0.0] * 2)\n",
    "\n",
    "columns = [\"Algorithm\", \"Sample\", \"Success\", \"Iteration\"]\n",
    "df = pd.DataFrame(columns=columns)\n",
    "\n",
    "for method in METHODS:\n",
    "\n",
    "    # Ensure that all have same test problems.\n",
    "    np.random.seed(123)\n",
    "\n",
    "    for _ in range(PROBLEMS):\n",
    "\n",
    "        x0 = np.random.uniform(size=DIMENSION)\n",
    "\n",
    "        rslt = optimize.root(exponential_function, x0, method=method)\n",
    "\n",
    "        info = [[method, _, rslt[\"success\"], rslt[\"nit\"]]]\n",
    "        df = df.append(pd.DataFrame(info, columns=columns), ignore_index=True)"
   ]
  },
  {
   "cell_type": "markdown",
   "metadata": {},
   "source": [
    "Now we can explore the performance of the alternative implementations."
   ]
  },
  {
   "cell_type": "code",
   "execution_count": 46,
   "metadata": {},
   "outputs": [
    {
     "data": {
      "text/html": [
       "<div>\n",
       "<style scoped>\n",
       "    .dataframe tbody tr th:only-of-type {\n",
       "        vertical-align: middle;\n",
       "    }\n",
       "\n",
       "    .dataframe tbody tr th {\n",
       "        vertical-align: top;\n",
       "    }\n",
       "\n",
       "    .dataframe thead th {\n",
       "        text-align: right;\n",
       "    }\n",
       "</style>\n",
       "<table border=\"1\" class=\"dataframe\">\n",
       "  <thead>\n",
       "    <tr style=\"text-align: right;\">\n",
       "      <th></th>\n",
       "      <th>Algorithm</th>\n",
       "      <th>Sample</th>\n",
       "      <th>Success</th>\n",
       "      <th>Iteration</th>\n",
       "    </tr>\n",
       "  </thead>\n",
       "  <tbody>\n",
       "    <tr>\n",
       "      <th>0</th>\n",
       "      <td>broyden1</td>\n",
       "      <td>0</td>\n",
       "      <td>False</td>\n",
       "      <td>1100</td>\n",
       "    </tr>\n",
       "    <tr>\n",
       "      <th>1</th>\n",
       "      <td>broyden1</td>\n",
       "      <td>1</td>\n",
       "      <td>False</td>\n",
       "      <td>1100</td>\n",
       "    </tr>\n",
       "    <tr>\n",
       "      <th>2</th>\n",
       "      <td>broyden1</td>\n",
       "      <td>2</td>\n",
       "      <td>False</td>\n",
       "      <td>1100</td>\n",
       "    </tr>\n",
       "    <tr>\n",
       "      <th>3</th>\n",
       "      <td>broyden1</td>\n",
       "      <td>3</td>\n",
       "      <td>False</td>\n",
       "      <td>1100</td>\n",
       "    </tr>\n",
       "    <tr>\n",
       "      <th>4</th>\n",
       "      <td>broyden1</td>\n",
       "      <td>4</td>\n",
       "      <td>False</td>\n",
       "      <td>1100</td>\n",
       "    </tr>\n",
       "  </tbody>\n",
       "</table>\n",
       "</div>"
      ],
      "text/plain": [
       "  Algorithm Sample Success Iteration\n",
       "0  broyden1      0   False      1100\n",
       "1  broyden1      1   False      1100\n",
       "2  broyden1      2   False      1100\n",
       "3  broyden1      3   False      1100\n",
       "4  broyden1      4   False      1100"
      ]
     },
     "execution_count": 46,
     "metadata": {},
     "output_type": "execute_result"
    }
   ],
   "source": [
    "df.head()"
   ]
  },
  {
   "cell_type": "markdown",
   "metadata": {},
   "source": [
    "<div class=\"alert alert-block alert-info\">\n",
    "    <u><h2>Convergence</h2></u>\n",
    "</div>\n",
    "\n",
    "Two factors determine the speed with which a properly coded and initiated algorithm will converge to a solution:\n",
    "\n",
    "* Asymptotic rate of convergence\n",
    "* Computational effort per iteration\n",
    "\n",
    "The asymptotic rate of convergence measures improvement afforded per iteration near the solution. A sequence $x_k$ converges to $x^*$ at an asymptotic rate of order $p$ if there is constant $C > 0$ such that for $k$ sufficiently large,\n",
    "$$\n",
    "\\begin{align*}\n",
    "||x_{k+1} - x^* || \\leq C ||x_k - x^* || p\n",
    "\\end{align*}\n",
    "$$\n",
    "* Function iteration converges at a “linear” rate with $p = 1$ and $C < 1$ \n",
    "* Broyden’s method converges at a “superlinear” rate with $p \\approx 1.62$\n",
    "* Newton’s method converges at a “quadratic” rate with $p = 2$"
   ]
  },
  {
   "cell_type": "code",
   "execution_count": 47,
   "metadata": {},
   "outputs": [
    {
     "data": {
      "image/png": "[encoded data removed]",
      "text/plain": [
       "<Figure size 720x360 with 1 Axes>"
      ]
     },
     "metadata": {
      "needs_background": "light"
     },
     "output_type": "display_data"
    }
   ],
   "source": [
    "plot_convergence()"
   ]
  },
  {
   "cell_type": "markdown",
   "metadata": {},
   "source": [
    "<img src=\"material/fig-convergence-rates.png\" width=600 height=600 />"
   ]
  },
  {
   "cell_type": "markdown",
   "metadata": {},
   "source": [
    "However, algorithms differ in computations per iteration.\n",
    "\n",
    "* Function iteration requires a function evaluation.\n",
    "* Broyden’s method additionally requires a linear solve.\n",
    "* Newton’s method additionally requires a Jacobian evaluation.\n",
    "\n",
    "Thus, a faster rate of convergence typically can be achieved only by investing greater computational effort per iteration. The optimal tradeoff between rate of convergence and computational effort per iteration varies across applications."
   ]
  },
  {
   "cell_type": "markdown",
   "metadata": {},
   "source": [
    "### Software\n",
    "\n",
    "* **HOMPACK**: https://www.netlib.org/hompack"
   ]
  }
 ],
 "metadata": {
  "kernelspec": {
   "display_name": "Python 3",
   "language": "python",
   "name": "python3"
  },
  "language_info": {
   "codemirror_mode": {
    "name": "ipython",
    "version": 3
   },
   "file_extension": ".py",
   "mimetype": "text/x-python",
   "name": "python",
   "nbconvert_exporter": "python",
   "pygments_lexer": "ipython3",
   "version": "3.8.6"
  }
 },
 "nbformat": 4,
 "nbformat_minor": 4
}
