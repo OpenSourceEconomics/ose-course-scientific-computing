{
 "cells": [
  {
   "cell_type": "markdown",
   "metadata": {},
   "source": [
    "# Integration"
   ]
  },
  {
   "cell_type": "code",
   "execution_count": 1,
   "metadata": {},
   "outputs": [],
   "source": [
    "import numpy as np\n",
    "\n",
    "from integration_algorithms import monte_carlo_quasi_two_dimensions\n",
    "from integration_algorithms import quadrature_newton_trapezoid_one\n",
    "from integration_algorithms import quadrature_newton_simpson_one\n",
    "from integration_algorithms import quadrature_gauss_legendre_one\n",
    "from integration_algorithms import quadrature_gauss_legendre_two\n",
    "from integration_algorithms import monte_carlo_naive_one\n",
    "\n",
    "from integration_plots import plot_naive_monte_carlo_randomness\n",
    "from integration_plots import plot_naive_monte_carlo_error\n",
    "from integration_plots import plot_gauss_legendre_weights\n",
    "from integration_plots import plot_benchmarking_exercise\n",
    "from integration_plots import plot_naive_monte_carlo\n",
    "from integration_plots import plot_quasi_monte_carlo\n",
    "from integration_plots import plot_starting_illustration\n",
    "from integration_plots import plot_trapezoid_rule_illustration\n",
    "from integration_plots import plot_simpsons_rule_illustration\n",
    "\n",
    "from integration_problems import problem_kinked\n",
    "from integration_problems import problem_smooth"
   ]
  },
  {
   "cell_type": "markdown",
   "metadata": {},
   "source": [
    "## Outline\n",
    "\n",
    "1. Setup\n",
    "2. Newton-Cotes rules\n",
    "3. Gaussian formulas\n",
    "4. Monte Carlo integration\n",
    "5. Resources"
   ]
  },
  {
   "cell_type": "markdown",
   "metadata": {},
   "source": [
    "## Setup\n",
    "\n",
    "Consider finding the area under a continuous real-valued function $f$ over a bounded interval $[a, b]$:\n",
    "\n",
    "$$\n",
    "\\begin{aligned}\n",
    "A = \\int_a^b f(x) dx\n",
    "\\end{aligned}\n",
    "$$\n",
    "\n",
    "Let's look a visual representation of our problem."
   ]
  },
  {
   "cell_type": "code",
   "execution_count": null,
   "metadata": {},
   "outputs": [],
   "source": []
  },
  {
   "cell_type": "markdown",
   "metadata": {},
   "source": [
    "Most numerical methods for computing this integral split up the original integral into a sum of several integrals, each covering a smaller part of the original integration interval $[a, b]$. This re-writing of the integral is based on a selection of integration points $x_i , i = 0, 1, . . . , n$ that are distributed on the interval $[a, b]$. Integration points may, or may not, be evenly distributed.\n",
    "\n",
    "Given the integration points, the original integral is re-written as a sum of integrals, each integral being computed over the sub-interval between two consecutive integration points. The integral from the beginning is thus expressed as:\n",
    "\n",
    "$$\n",
    "\\begin{aligned}\n",
    "\\int_a^b f(x) dx = \\int_{x_0}^{x_1} f(x) dx + \\int_{x_1}^{x_2} f(x) dx +  ...  + \\int_{x_{n-1}}^{x_n} f(x) dx , \n",
    "\\end{aligned}\n",
    "$$\n",
    "\n",
    "where $x_0 = a$ and $x_n = b$.\n",
    "\n",
    "The different integration methods will differ in the way they approximate each integral on the right hand side. The fundamental idea is that each term is an integral over a small interval $[x_i , x_{i+1}]$, and over this small interval, it makes sense to approximate $f$ by a simple shape"
   ]
  },
  {
   "cell_type": "markdown",
   "metadata": {},
   "source": [
    "## Newton-Cotes rules\n",
    "\n",
    "\n",
    "Newton–Cotes quadrature rules are a group of formulas for numerical integration (also called quadrature) based on evaluating the integrand at equally spaced points. The integration points are then computed as\n",
    "\n",
    "$$\n",
    "\\begin{aligned}\n",
    "x_i = a + ih, i = 0, 1, . . . , n,\n",
    "\\end{aligned}\n",
    "$$\n",
    "\n",
    "where $h = (b - a) / n$\n",
    "\n",
    "The closed Newton-Cotes formula of degree $n$ is stated as\n",
    "\n",
    "$$\n",
    "\\begin{aligned}\n",
    "\\int_a^b f(x) dx \\approx \\sum^n_{i=0} \\omega_i f(x_i).\n",
    "\\end{aligned}\n",
    "$$\n",
    "\n",
    "We will consider the first two degrees in more detail:\n",
    "\n",
    "* Trapezoid rule\n",
    "\n",
    "* Simpson’s rule"
   ]
  },
  {
   "cell_type": "markdown",
   "metadata": {},
   "source": [
    "### Trapezoid rule\n",
    "\n",
    "\n",
    "The Trapezoid rule approximates the area under the function $f$ with the area under a piecewise linear approximation to $f$. "
   ]
  },
  {
   "cell_type": "code",
   "execution_count": null,
   "metadata": {},
   "outputs": [],
   "source": []
  },
  {
   "cell_type": "markdown",
   "metadata": {},
   "source": [
    "More formally:\n",
    "\n",
    "$$\n",
    "\\begin{aligned}\n",
    "\\int_a^b f(x) dx & = \\int_{x_0}^{x_1} f(x) dx + \\int_{x_1}^{x_2} f(x) dx  +  ... + \\int_{x_{n-1}}^{x_n} f(x) dx \\\\ &\\approx h \\frac{f(x_0) - f(x_1)}{2} +  h \\frac{f(x_1) - f(x_2)}{2} + ... + h \\frac{f(x_{n-1}) - f(x_n)}{2}, \n",
    "\\end{aligned}\n",
    "$$\n",
    "\n",
    "which we can further simplify to:\n",
    "\n",
    "$$\n",
    "\\begin{aligned}\n",
    "\\int_a^b f(x) dx \\approx 0.5h f(x_0) + h\\sum_{i = 1}^{n -1}f(x_i) + 0.5 h f(x_n).\n",
    "\\end{aligned}\n",
    "$$\n",
    "\n",
    "The weights are then the following:\n",
    "\n",
    "$$\n",
    "\\begin{aligned}\n",
    "\\omega_i = \\begin{cases}\n",
    "h / 2 & \\text{if $i \\in \\{0, n\\}$}   \\\\\n",
    "h & \\text{otherwise}\n",
    "\\end{cases}\n",
    "\\end{aligned}\n",
    "$$"
   ]
  },
  {
   "cell_type": "code",
   "execution_count": null,
   "metadata": {},
   "outputs": [],
   "source": []
  },
  {
   "cell_type": "code",
   "execution_count": null,
   "metadata": {},
   "outputs": [],
   "source": []
  },
  {
   "cell_type": "markdown",
   "metadata": {},
   "source": [
    "### Simpson’s rule\n",
    "\n",
    "\n",
    "Simpson’s rule approximates the area under a function $f$ with the area under a piecewise quadratic approximation to $f$.\n"
   ]
  },
  {
   "cell_type": "code",
   "execution_count": null,
   "metadata": {},
   "outputs": [],
   "source": []
  },
  {
   "cell_type": "markdown",
   "metadata": {},
   "source": [
    "The weights are the following:\n",
    "\n",
    "$$\n",
    "\\begin{aligned}\n",
    "w_i  = \\begin{cases}\n",
    "h / 3 & \\text{for $i \\in [0, n]$} \\\\\n",
    "4 h / 3& \\text{for $0 < i < n, i$ even} \\\\\n",
    "2 h / 3& \\text{for $0 < i < n, i$ odd} . \\\\\n",
    "\\end{cases}\n",
    "\\end{aligned}\n",
    "$$\n"
   ]
  },
  {
   "cell_type": "code",
   "execution_count": null,
   "metadata": {},
   "outputs": [],
   "source": []
  },
  {
   "cell_type": "code",
   "execution_count": null,
   "metadata": {},
   "outputs": [],
   "source": []
  },
  {
   "cell_type": "markdown",
   "metadata": {},
   "source": [
    "## Gaussian formulas\n",
    "\n",
    "Gaussian quadrature formulas employ a very different logic to compute the area under a curve $f$ over a bounded interval $[a, b]$. Specifically, the $n$ quadrature nodes $x_i$ and $n$ quadrature weights $\\omega_i$ are chosen to exactly integrate polynomials of degree $2n - 1$ or less.\n",
    "\n",
    "Gaussian quadrature approximations of the form:\n",
    "\n",
    "$$\n",
    "\\begin{aligned}\n",
    "\\int_a^b f(x) w(x) dx \\approx \\sum_{i = 1}^{n}\\omega _i f(x_i)\n",
    "\\end{aligned}\n",
    "$$\n",
    "\n",
    "for any nonnegative weighing function $w(x)$. Versions of $w(x)$ lead to include Gauss-Legendre, Gauss-Chebyshev, Gauss-Hermite and Gauss-Laguerre.\n",
    "\n",
    "\n",
    "\n",
    "We start from the special domain between $[-1, 1]$, again the formula for our approximate solution looks very similar.\n",
    "\n",
    "$$\n",
    "\\begin{aligned}\n",
    "\\int_{-1}^1 f(x) dx\\approx \\sum^n_{i=1} w_i f(x_i)\n",
    "\\end{aligned}\n",
    "$$\n",
    "\n",
    "So, more generally using a change of variables:\n",
    "\n",
    "$$\n",
    "\\begin{aligned}\n",
    "\\int_a^b f(x) = \\approx \\frac{b -a }{2} \\sum^n_{i=1} w_i f\\left(\\frac{(x_i + 1)(b - a)}{2} + a\\right)\n",
    "\\end{aligned}\n",
    "$$\n",
    "\n",
    "Unlike in the case of the Newton-Cotes approach, Gaussian  nodes are not uniformly spaced and do not include the integration limits."
   ]
  },
  {
   "cell_type": "code",
   "execution_count": null,
   "metadata": {},
   "outputs": [],
   "source": []
  },
  {
   "cell_type": "markdown",
   "metadata": {},
   "source": [
    "### _Question_\n",
    "\n",
    "* What are the properties of the weights?"
   ]
  },
  {
   "cell_type": "code",
   "execution_count": null,
   "metadata": {},
   "outputs": [],
   "source": []
  },
  {
   "cell_type": "code",
   "execution_count": null,
   "metadata": {},
   "outputs": [],
   "source": []
  },
  {
   "cell_type": "markdown",
   "metadata": {},
   "source": [
    "### Benchmarking\n",
    "\n",
    "\n",
    "### _Exercise_\n",
    "* Compare the performance of our integration routines on the following two integrals.\n",
    "\n",
    "\n",
    "We study the following two cases:\n",
    "\n",
    "$$\n",
    "\\begin{aligned}\n",
    "f(x) & = \\int_{-1}^1 e^{-x} dx \\\\\n",
    "f(x) & = \\int_{-1}^1 \\sqrt{|x|} dx .\n",
    "\\end{aligned}\n",
    "$$"
   ]
  },
  {
   "cell_type": "code",
   "execution_count": null,
   "metadata": {},
   "outputs": [],
   "source": []
  },
  {
   "cell_type": "markdown",
   "metadata": {},
   "source": [
    "How can we extend the ideas so far to multidimensional integration? \n",
    "\n",
    "$$\n",
    "\\begin{aligned}\n",
    "\\int_{x}\\int_{y} f(x, y) dx dy .\n",
    "\\end{aligned}\n",
    "$$\n",
    "\n",
    "The product rule approximates the integral with the following sum:\n",
    "\n",
    "$$\n",
    "\\begin{aligned}\n",
    "\\sum_{i_x = 1}^m \\sum_{i_y = 1}^m \\omega_{i_x} \\omega_{i_y} f(x_{1} y_{1}) .\n",
    "\\end{aligned}\n",
    "$$\n",
    "\n",
    "A difficulty of this approach is the curse of dimensionality as the number of nodes inreases exponentially with the number of dimensions.\n"
   ]
  },
  {
   "cell_type": "code",
   "execution_count": null,
   "metadata": {},
   "outputs": [],
   "source": []
  },
  {
   "cell_type": "markdown",
   "metadata": {},
   "source": [
    "## Monte Carlo integration\n",
    "\n",
    "Naive Monte Carlo integration uses random sampling of a function to numerically compute an estimate of its integral. We can approximate this integral by averaging $N$ samples of the function $f$ drawn from a uniform distribution between $a$ and $b$.\n",
    "\n",
    "$$\n",
    "\\begin{aligned}\n",
    "\\int_a^b f(x) dx \\approx (b - a) \\frac{1}{N} \\sum_{i = 1}^N f(x_i)\n",
    "\\end{aligned}\n",
    "$$\n",
    "\n",
    "Why?\n",
    "\n",
    "$$\n",
    "\\begin{aligned}\n",
    "E\\left[ (b - a)  \\frac{1}{N} \\sum_{i = 1}^N f(x_i)\\right] & = (b - a)  \\frac{1}{N}  \\sum_{i = 1}^N E\\left[f(x_i)\\right] \\\\\n",
    "& =  (b - a)  \\frac{1}{N}  \\sum_{i = 1}^N\\left[\\int_a^b f(x) \\frac{1}{b - a} dx\\right] \\\\\n",
    "& =  \\frac{1}{N}  \\sum_{i = 1}^N \\int_a^b f(x) dx  \\\\\n",
    "& = \\int_a^b f(x) dx.  \n",
    "\\end{aligned}\n",
    "$$\n"
   ]
  },
  {
   "cell_type": "code",
   "execution_count": null,
   "metadata": {},
   "outputs": [],
   "source": []
  },
  {
   "cell_type": "markdown",
   "metadata": {},
   "source": [
    "Monte Carlo integration only converges very slowly. Let's consider our smooth benchmarking example from earlier and compare the naive Monte Carlo approach to the quadrature methods."
   ]
  },
  {
   "cell_type": "code",
   "execution_count": null,
   "metadata": {},
   "outputs": [],
   "source": []
  },
  {
   "cell_type": "markdown",
   "metadata": {},
   "source": [
    "Naive Monte Carlo integration differs from our earlier methods as the approximation itself is a random variable. How about the level of randomness at a given number $(n = 50)$ of integration nodes? "
   ]
  },
  {
   "cell_type": "code",
   "execution_count": null,
   "metadata": {},
   "outputs": [],
   "source": []
  },
  {
   "cell_type": "markdown",
   "metadata": {},
   "source": [
    "However, Monte Carlo integration is particular useful when tackling multidimensional integrals. Let's consider the computation of a two dimensional integral going forward."
   ]
  },
  {
   "cell_type": "code",
   "execution_count": null,
   "metadata": {},
   "outputs": [],
   "source": []
  },
  {
   "cell_type": "markdown",
   "metadata": {},
   "source": [
    "Quasi-Monte Carlo employ deterministic sequences of nodes $x_i$ with the property that\n",
    "\n",
    "$$\n",
    "\\begin{aligned}\n",
    "\\lim_{n \\rightarrow \\infty} \\frac{b - a}{n} \\sum_{i=1}^n f(x_i)= \\int_{a}^b f(x) dx.\n",
    "\\end{aligned}\n",
    "$$\n",
    "\n",
    "Deterministic sequences of nodes chosen to fill space in a regular manner typically provide more accurate integration approximations than pseudo-random sequences. These sequences are readily available in the [chaospy](chaospy.readthedocs.io) package. The documentation of the package also includes a tutorial on [Monte Carlo integration](https://chaospy.readthedocs.io/en/master/tutorials/monte_carlo_integration.html)."
   ]
  },
  {
   "cell_type": "code",
   "execution_count": null,
   "metadata": {},
   "outputs": [],
   "source": []
  },
  {
   "cell_type": "markdown",
   "metadata": {},
   "source": [
    "Otherwise, all looks pretty similar to our earlier implementation. Note that the default rule actually takes us back to the naive Monte Carlo method."
   ]
  },
  {
   "cell_type": "code",
   "execution_count": null,
   "metadata": {},
   "outputs": [],
   "source": []
  },
  {
   "cell_type": "markdown",
   "metadata": {},
   "source": [
    "Let's consider the following test function from Genz (1984)."
   ]
  },
  {
   "cell_type": "markdown",
   "metadata": {},
   "source": [
    "\n",
    "<img src=\"material/fig-discontinuous-integrand.png\" width=500 height=500 />\n",
    "\n"
   ]
  },
  {
   "cell_type": "markdown",
   "metadata": {},
   "source": [
    "### _Exercises_\n",
    "\n",
    "1. What are the properties of the function?\n",
    "2. Compare the performance naive and quasi Monte Carlo integration routines for $u = (0.5, 0.5)$ and $a = (5, 5)$ over the two-dimensional unit cube.\n",
    "3. How does Gauss-Legendre quadrature perform?"
   ]
  },
  {
   "cell_type": "markdown",
   "metadata": {},
   "source": [
    "Applying the integration routines to functions with other input arguments can be achieved with some small modifications. Here we pass in our benchmarking function without any default arguments to a modified naive Monte Carlo integration routine."
   ]
  },
  {
   "cell_type": "code",
   "execution_count": null,
   "metadata": {},
   "outputs": [],
   "source": []
  },
  {
   "cell_type": "markdown",
   "metadata": {},
   "source": [
    "## Resources"
   ]
  },
  {
   "cell_type": "markdown",
   "metadata": {},
   "source": [
    "### Research\n",
    "\n",
    "* https://papers.ssrn.com/sol3/papers.cfm?abstract_id=1870703\n",
    "\n",
    "* https://www.sciencedirect.com/science/article/abs/pii/S0304407607002552\n",
    "\n",
    "* https://arxiv.org/abs/1908.04110\n",
    "\n",
    "* Philip J. Davis and Philip Rabinowitz, Methods of Numerical Integration.\n",
    "\n",
    "* https://www.sciencedirect.com/science/article/pii/S0021999185712090\n",
    "\n",
    "* https://ins.uni-bonn.de/media/public/publication-media/sparse_grids_nutshell.pdf?pk=639"
   ]
  },
  {
   "cell_type": "markdown",
   "metadata": {},
   "source": [
    "### Other resources\n",
    "\n",
    "* http://hplgit.github.io/prog4comp/doc/pub/p4c-sphinx-Python/._pylight004.html\n",
    "\n",
    "* http://people.duke.edu/~ccc14/cspy/15C_MonteCarloIntegration.html\n",
    "\n",
    "* https://www.math.ubc.ca/~pwalls/math-python/integration/integrals/\n",
    "\n",
    "* https://guido.vonrudorff.de/wp-content/uploads/2020/05/NumericalIntegration.pdf\n",
    "\n",
    "* https://readthedocs.org/projects/mec-cs101-integrals/downloads/pdf/latest/\n",
    "\n",
    "### References\n",
    "\n",
    "* Genz, A. (1984, September). Testing multidimensional integration routines. In Proc. of international conference on Tools, methods and languages for scientific and engineering computation (pp. 81-94). Elsevier North-Holland, Inc.."
   ]
  }
 ],
 "metadata": {
  "kernelspec": {
   "display_name": "Python 3",
   "language": "python",
   "name": "python3"
  },
  "language_info": {
   "codemirror_mode": {
    "name": "ipython",
    "version": 3
   },
   "file_extension": ".py",
   "mimetype": "text/x-python",
   "name": "python",
   "nbconvert_exporter": "python",
   "pygments_lexer": "ipython3",
   "version": "3.8.8"
  }
 },
 "nbformat": 4,
 "nbformat_minor": 4
}
