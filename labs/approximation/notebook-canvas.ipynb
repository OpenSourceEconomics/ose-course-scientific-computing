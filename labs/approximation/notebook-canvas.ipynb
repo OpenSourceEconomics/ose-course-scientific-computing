{
 "cells": [
  {
   "cell_type": "markdown",
   "metadata": {},
   "source": [
    "# Approximation"
   ]
  },
  {
   "cell_type": "markdown",
   "metadata": {},
   "source": [
    "## Outline\n",
    "\n",
    "1. Setup\n",
    "2. Polynomial interpolation\n",
    "3. Resources"
   ]
  },
  {
   "cell_type": "markdown",
   "metadata": {},
   "source": [
    "## Setup"
   ]
  },
  {
   "cell_type": "markdown",
   "metadata": {},
   "source": [
    "In many computational economics applications, we need to replace an analytically intractable function $f : R^n \\rightarrow R$ with a numerically tractable approximation $\\hat{f}$. In some applications, f can be evaluated at any point of its domain, but with difficulty, and we wish to replace it with an approximation $\\hat{f}$ that is easier to work with.\n",
    "\n",
    "We study interpolation, a general strategy for forming a tractable approximation to a function that can be evaluated at any point of its domain. Consider a real-valued function $f$ defined on an interval of the real line that can be evaluated at any point of its domain.\n",
    "\n",
    "Generally, we will approximate $f$ using a function $\\hat{f}$ that is a finite linear combination of n known basis functions $\\phi_1, \\phi_2, ..., \\phi_n$ of our choosing:\n",
    "\n",
    "\\begin{align*}\n",
    "f(x) \\approx \\hat{f}(x) \\equiv \\sum_{j=1}^n c_j \\phi_j(x).\n",
    "\\end{align*}\n",
    "\n",
    "We will fix the n basis coefficients $c_1 , c_2 , ... , c_n$ by requiring $\\hat{f}$ to interpolate, that is, agree with $f$ , at $n$ interpolation nodes $x_1 , x_2 , ... , x_n$ of our choosing. \n",
    "\n",
    "The most readily recognizable basis is the monomial basis:\n",
    "\n",
    "\\begin{align*}\n",
    "\\phi_0(x) &= 1 \\\\\n",
    "\\phi_1(x) &= x \\\\\n",
    "\\phi_2(x) &= x^2 \\\\\n",
    ". \\\\\n",
    "\\phi_n(x)&= x^n.\n",
    "\\end{align*}"
   ]
  },
  {
   "cell_type": "markdown",
   "metadata": {},
   "source": [
    "This can be used to construct the polynomial approximations:\n",
    "\n",
    "\\begin{align*}\n",
    "f(x) \\approx \\hat{f}(x) \\equiv c_0 + c_1 x +  c_2 x^2 +  ... c_n x^n\n",
    "\\end{align*}\n",
    "\n",
    "There are other basis functions with more desirable properties and there are many different ways to choose the interpolation nodes.\n",
    "\n",
    "Regardless of how the $n$ basis functions and nodes are chosen, computing the basis coefficients reduces to solving a linear equation.\n",
    "\n",
    "\\begin{align*}\n",
    "\\sum_{j=1}^n c_j \\phi_j(x) = f(x), \\qquad i = 1, ..., n\n",
    "\\end{align*}\n",
    "\n",
    "Interpolation schemes differ only in how the basis functions $\\phi_j$ and interpolation nodes $x_j$ are chosen.\n",
    "\n",
    "\n"
   ]
  },
  {
   "cell_type": "code",
   "execution_count": 1,
   "metadata": {},
   "outputs": [],
   "source": [
    "from functools import partial\n",
    "from temfpy.interpolation import runge\n",
    "import warnings\n",
    "\n",
    "from scipy.interpolate import interp1d\n",
    "import matplotlib.pyplot as plt\n",
    "import numpy as np\n",
    "\n",
    "from approximation_algorithms import get_interpolator_flexible_basis_flexible_nodes\n",
    "from approximation_algorithms import get_interpolator_monomial_flexible_nodes\n",
    "from approximation_algorithms import get_interpolator_monomial_uniform\n",
    "from approximation_algorithms import get_interpolator_runge_baseline\n",
    "\n",
    "from approximation_auxiliary import compute_interpolation_error\n",
    "from approximation_auxiliary import get_chebyshev_nodes\n",
    "from approximation_auxiliary import get_uniform_nodes\n",
    "\n",
    "from approximation_plots import plot_two_dimensional_problem\n",
    "from approximation_plots import plot_reciprocal_exponential\n",
    "from approximation_plots import plot_runge_different_nodes\n",
    "from approximation_plots import plot_runge_function_cubic\n",
    "from approximation_plots import plot_two_dimensional_grid\n",
    "from approximation_plots import plot_approximation_nodes\n",
    "from approximation_plots import plot_basis_functions\n",
    "from approximation_plots import plot_runge_multiple\n",
    "from approximation_plots import plot_runge\n",
    "\n",
    "from approximation_problems import problem_reciprocal_exponential\n",
    "from approximation_problems import problem_two_dimensions"
   ]
  },
  {
   "cell_type": "markdown",
   "metadata": {},
   "source": [
    "## Polynomial interpolation"
   ]
  },
  {
   "cell_type": "markdown",
   "metadata": {},
   "source": [
    "A polynomial is an expression consisting of variables and coefficients, that involves only the operations of addition, subtraction, multiplication, and non-negative integer exponentiation of variables. \n",
    "\n",
    "The Weierstrass Theorem asserts that any continuous real-valued function can be approximated to an arbitrary degree of accuracy over a bounded interval by a polynomial.\n",
    "\n",
    "Specifically, if $f$ is continuous on $[a, b]$ and $\\epsilon > 0$, then there exists a polynomial $p$ such that \n",
    "\n",
    "\\begin{align*}\n",
    "\\max_{x\\in[a, b]} |f(x) - p(x)| < \\epsilon\n",
    "\\end{align*}\n",
    "\n",
    "* How to find a polynomial that provides a desired degree of accuracy?\n",
    "\n",
    "* What degree of the polynomial is required?\n"
   ]
  },
  {
   "cell_type": "markdown",
   "metadata": {},
   "source": [
    "###  Naive polynomial interpolation\n",
    "\n",
    "Let's start with a basic setup, where we use a uniform grid and monomial basis functions.\n",
    "\n",
    "\\begin{align*}\n",
    "\\hat{f}(x) \\equiv \\sum_{j=0}^n c_j x^j\n",
    "\\end{align*}"
   ]
  },
  {
   "cell_type": "code",
   "execution_count": null,
   "metadata": {},
   "outputs": [],
   "source": []
  },
  {
   "cell_type": "code",
   "execution_count": null,
   "metadata": {},
   "outputs": [],
   "source": []
  },
  {
   "cell_type": "markdown",
   "metadata": {},
   "source": [
    "Now we can get a look at the interpolation nodes."
   ]
  },
  {
   "cell_type": "code",
   "execution_count": null,
   "metadata": {},
   "outputs": [],
   "source": []
  },
  {
   "cell_type": "markdown",
   "metadata": {},
   "source": [
    "Let's look at the performance of this approach for the Runge function for $x\\in[0, 1]$.\n",
    "\n",
    "\\begin{align*}\n",
    "f(x) = \\frac{1}{(1 + 25 x^2)}\n",
    "\\end{align*}"
   ]
  },
  {
   "cell_type": "code",
   "execution_count": null,
   "metadata": {},
   "outputs": [],
   "source": []
  },
  {
   "cell_type": "markdown",
   "metadata": {},
   "source": [
    "Due to its frequent use, `numpy` does offer a convenience class to work with polynomials. See [here](https://numpy.org/devdocs/reference/routines.polynomials.html) for its documentation."
   ]
  },
  {
   "cell_type": "code",
   "execution_count": null,
   "metadata": {},
   "outputs": [],
   "source": []
  },
  {
   "cell_type": "markdown",
   "metadata": {},
   "source": [
    "We will use the attached methods to develop a flexible interpolation set in an iterative fashion.'"
   ]
  },
  {
   "cell_type": "code",
   "execution_count": null,
   "metadata": {},
   "outputs": [],
   "source": []
  },
  {
   "cell_type": "code",
   "execution_count": null,
   "metadata": {},
   "outputs": [],
   "source": []
  },
  {
   "cell_type": "markdown",
   "metadata": {},
   "source": [
    "### _Question_\n",
    "\n",
    "* Why the warnings?\n",
    "   "
   ]
  },
  {
   "cell_type": "markdown",
   "metadata": {},
   "source": [
    "Since we have a good understanding what is causing the warning, we can simply turn it of going forward. A documentation that shows how to deal with more fine-grained filters is available [here](https://pymotw.com/3/warnings/)."
   ]
  },
  {
   "cell_type": "code",
   "execution_count": null,
   "metadata": {},
   "outputs": [],
   "source": []
  },
  {
   "cell_type": "markdown",
   "metadata": {},
   "source": [
    "Now we are read to plot it against the true function."
   ]
  },
  {
   "cell_type": "code",
   "execution_count": null,
   "metadata": {},
   "outputs": [],
   "source": []
  },
  {
   "cell_type": "markdown",
   "metadata": {},
   "source": [
    "We evaluate the error in our approximation by the  the following statistic."
   ]
  },
  {
   "cell_type": "code",
   "execution_count": null,
   "metadata": {},
   "outputs": [],
   "source": []
  },
  {
   "cell_type": "code",
   "execution_count": null,
   "metadata": {},
   "outputs": [],
   "source": []
  },
  {
   "cell_type": "markdown",
   "metadata": {},
   "source": [
    "### _Exercises_\n",
    "\n",
    "1. Generalize the function to allow to approximate the function with a polynomial of generic degree.\n",
    "2. How does the quality of the approximation change as we increase the number of interpolation points?"
   ]
  },
  {
   "cell_type": "code",
   "execution_count": null,
   "metadata": {},
   "outputs": [],
   "source": []
  },
  {
   "cell_type": "markdown",
   "metadata": {},
   "source": [
    "What can be done? First we explore a different way to choose the the nodes.\n",
    "\n",
    "Theory asserts that the best way to approximate a continuous function with a polynomial over a bounded interval $[a, b]$ is to interpolate it at so called Chebychev nodes:\n",
    "\n",
    "\\begin{align*}\n",
    "x_i = \\frac{a + b}{2} + \\frac{b - a}{2}\\cos\\left(\\frac{n - i + 0.5}{n}\\pi\\right)\n",
    "\\end{align*}\n",
    "\n"
   ]
  },
  {
   "cell_type": "code",
   "execution_count": null,
   "metadata": {},
   "outputs": [],
   "source": []
  },
  {
   "cell_type": "markdown",
   "metadata": {},
   "source": [
    "Let's look at a visual representation."
   ]
  },
  {
   "cell_type": "code",
   "execution_count": null,
   "metadata": {},
   "outputs": [],
   "source": []
  },
  {
   "cell_type": "markdown",
   "metadata": {},
   "source": [
    "The Chebychev nodes are not evenly spaced and do not include the endpoints of the approximation interval. They are more closely spaced near the endpoints of the approximation interval and less so near the center.\n",
    "\n",
    "\n",
    "If $f$ is continuous ...\n",
    "\n",
    "* Rivlin’s Theorem asserts that Chebychev-node polynomial interpolation is nearly optimal, that is, it affords an approximation error that is very close to the lowest error attainable with another polynomial of the same degree.\n",
    "\n",
    "* Jackson’s Theorem asserts that Chebychev-node polynomial interpolation is consistent, that is, the approximation error vanishes as the degree of the polynomial increases."
   ]
  },
  {
   "cell_type": "code",
   "execution_count": null,
   "metadata": {},
   "outputs": [],
   "source": []
  },
  {
   "cell_type": "code",
   "execution_count": null,
   "metadata": {},
   "outputs": [],
   "source": []
  },
  {
   "cell_type": "markdown",
   "metadata": {},
   "source": [
    "Let's compare the performance of the two approaches."
   ]
  },
  {
   "cell_type": "code",
   "execution_count": null,
   "metadata": {},
   "outputs": [],
   "source": []
  },
  {
   "cell_type": "markdown",
   "metadata": {},
   "source": [
    "However, merely interpolating at the Chebychev nodes does not eliminate ill-conditioning. Ill-conditioning stems from the choice of basis functions,\n",
    "not the choice of interpolation nodes. Fortunately, there is alternative to the monomial basis that is ideal for expressing Chebychev-node polynomial interpolants. The optimal basis for expressing Chebychev-node\n",
    "polynomial interpolants is called the Chebychev polynomial basis."
   ]
  },
  {
   "cell_type": "code",
   "execution_count": null,
   "metadata": {},
   "outputs": [],
   "source": []
  },
  {
   "cell_type": "markdown",
   "metadata": {},
   "source": [
    "Combining the Chebychev basis polynomials and Chebychev interpolation nodes yields an extremely well-conditioned interpolation equation and allows to approximate any continuous function to high precision. Let's put it all together now."
   ]
  },
  {
   "cell_type": "code",
   "execution_count": null,
   "metadata": {},
   "outputs": [],
   "source": []
  },
  {
   "cell_type": "markdown",
   "metadata": {},
   "source": [
    "How well can we actually do now?"
   ]
  },
  {
   "cell_type": "code",
   "execution_count": null,
   "metadata": {},
   "outputs": [],
   "source": []
  },
  {
   "cell_type": "markdown",
   "metadata": {},
   "source": [
    "###  Spline interpolation\n",
    "\n",
    "Piecewise polynomial splines, or simply splines for short, are a rich, flexible class of functions that may be used instead of high degree polynomials to approximate a real-valued function over a bounded interval. Generally, an order $k$ spline consists of a series of $k^{th}$\n",
    "degree polynomial segments spliced together so as to preserve continuity of derivatives of order $k - 1$ or less\n",
    "\n",
    "* A first-order or **linear spline** is a series of line segments spliced together to form a continuous function.\n",
    "\n",
    "* A third-order or **cubic spline** is a series of cubic polynomials segments spliced together to form a twice continuously differentiable function.\n",
    "\n",
    "\n",
    "<img src=\"material/fig-spline-two.png\" width=500 height=500 />\n",
    "<img src=\"material/fig-spline-four.png\" width=500 height=500 />\n",
    "<img src=\"material/fig-spline-eight.png\" width=500 height=500 />\n"
   ]
  },
  {
   "cell_type": "markdown",
   "metadata": {},
   "source": [
    "A linear spline with n + 1 evenly-spaced interpolation nodes $x_0 , x_1 , ... , x_n$ on the interval $[a, b]$ may be written as a linear combination of the $n + 1$ basis functions:\n",
    "\n",
    "\\begin{align*}\n",
    "\\phi_j(x) = \\begin{cases}\n",
    "1 - \\frac{|x - x_j|}{h} & \\qquad |x - x_j| \\leq h \\\\\n",
    "0  & \\\\\n",
    "\\end{cases}\n",
    "\\end{align*}\n",
    "\n",
    "where $h = (b - a)/n$ is the distance between the nodes.\n",
    "\n",
    "\n",
    "The linear spline approximant of $f$  takes thus the form:\n",
    "\n",
    "\\begin{align*}\n",
    "\\hat{f}(x) = \\sum_{j=1}^{n} f(x_j)\\phi_j(x)\n",
    "\\end{align*}"
   ]
  },
  {
   "cell_type": "code",
   "execution_count": null,
   "metadata": {},
   "outputs": [],
   "source": []
  },
  {
   "cell_type": "markdown",
   "metadata": {},
   "source": [
    "This kind of interpolation procedure is frequently used in practice and readily available in `scipy`. The `interp1` function is documented [here](https://docs.scipy.org/doc/scipy/reference/generated/scipy.interpolate.interp1d.html). "
   ]
  },
  {
   "cell_type": "code",
   "execution_count": null,
   "metadata": {},
   "outputs": [],
   "source": []
  },
  {
   "cell_type": "markdown",
   "metadata": {},
   "source": [
    "Let's get a feel for this approach using our earlier test function."
   ]
  },
  {
   "cell_type": "code",
   "execution_count": null,
   "metadata": {},
   "outputs": [],
   "source": []
  },
  {
   "cell_type": "markdown",
   "metadata": {},
   "source": [
    "### _Question_\n",
    "\n",
    "* How about other ways to place the interpolation nodes?"
   ]
  },
  {
   "cell_type": "markdown",
   "metadata": {},
   "source": [
    "Another widely-used specification relies on cubic splines. Here are the corresponding basis functions.\n",
    "\n",
    "<img src=\"material/fig-cubic-spline-basis.png\" width=500 height=500 />\n",
    "\n",
    "\n",
    "It is directly integrated into the `interp1` function."
   ]
  },
  {
   "cell_type": "code",
   "execution_count": null,
   "metadata": {},
   "outputs": [],
   "source": []
  },
  {
   "cell_type": "markdown",
   "metadata": {},
   "source": [
    "How about approximating Runge's function."
   ]
  },
  {
   "cell_type": "code",
   "execution_count": null,
   "metadata": {},
   "outputs": [],
   "source": []
  },
  {
   "cell_type": "markdown",
   "metadata": {},
   "source": [
    "Let's take stock of our interpolation toolkit by running a final benchmarking exercise and then try to extract some \n",
    "\n"
   ]
  },
  {
   "cell_type": "markdown",
   "metadata": {},
   "source": [
    "### _Exercises_\n",
    "\n",
    "Let's consider two test functions: problem_reciprocal_exponential, problem_kinked. \n",
    "\n",
    "1. Visualize both over the range from -1 to 1. What is the key differences in their properties?\n",
    "2. Set up a function that allows you to flexibly interpolate using either Chebychev polynomials (monomial basis, Chebychev nodes) or linear and cubic splines.         \n",
    "3. Compare the performance for the following degrees: 10, 20, 30."
   ]
  },
  {
   "cell_type": "markdown",
   "metadata": {},
   "source": [
    "We collect some rules-of-thumb:\n",
    "\n",
    "* Chebychev-node polynomial interpolation dominates spline function interpolation whenever the function is smooth.\n",
    "\n",
    "* Spline interpolation may perform better than polynomial interpolation if the underlying function exhibits a high degree of curvature or a derivative discontinuity."
   ]
  },
  {
   "cell_type": "markdown",
   "metadata": {},
   "source": [
    "### Multidimensional interpolation\n",
    "\n",
    "Univariate interpolation methods can be extended to higher dimensions by applying tensor product principles. We consider the problem of interpolating a bivariate real-valued function $f$ over an interval:\n",
    "\n",
    "\\begin{align*}\n",
    "I = \\{(x, y) | a_x \\leq x \\leq b_x, a_y \\leq y \\leq b_y\\}\n",
    "\\end{align*}\n",
    "\n",
    "\n",
    "Let $\\phi_{x_1} , \\phi_{x_2} , ... , \\phi_{x_n}$  x and $x_1 , x_2 , . . . , x_{n_x}$ be $n_x$ univariate basis functions and $n_x$ interpolation nodes for the interval $[a_x , b_x]$ and let $\\phi_{y_1} , \\phi_{y_2} , ... , \\phi_{y_n}$  x and $y_1 , y_2 , . . . , y_{n_y}$ be $n_x$ univariate basis functions and $n_y$ interpolation nodes for the interval $[a_y , b_y]$.\n",
    "\n",
    "Then an $n = n_x n_y$ bivariate function basis defined on $I$ may be obtained by forming the tensor product of the univariate basis functions: $\\phi_{ij} (x, y) = \\phi^x_i (x) \\phi^y_j(y)$ for $i = 1, 2, ... , n_x$ and $j = 1, 2, ... , n_y$. Similarly, a grid of $n = n_x n_y$ interpolation nodes for $I$ may be obtained by forming the Cartesian product of the univariate interpolation nodes\n",
    "\n",
    "\\begin{align*}\n",
    "\\{ (x_i , y_j ) | i = 1, 2, . . . , n_x ; j = 1, 2, . . . , n_y \\}.\n",
    "\\end{align*}\n",
    "\n",
    "Typically, multivariate tensor product interpolation schemes inherit the favorable qualities of their univariate parents. An approximant for $f$ then takes the form:\n",
    "\n",
    "\\begin{align*}\n",
    "\\hat{f}(x_1, x_2) = \\sum_{i=1}^{n_x} \\sum_{j=1}^{n_y} c_{ij}\\phi_{ij}(x_i, y_j)\n",
    "\\end{align*}\n",
    "\n",
    "However, this straightforward extension to the multivariate setting suffers from the **curse of dimensionality**. For example, the number of interpolation nodes increases exponentially in the number of dimensions.\n",
    "\n",
    "\n",
    "As an aside, we now move to the multidimensional setting where we often have to apply the same operation across multidimensional arrays and `numpy` provides some suitable capabilities to do this very fast if one makes an effort in understanding its [broadcasting rules](https://numpy.org/doc/stable/user/theory.broadcasting.html#array-broadcasting-in-numpy)."
   ]
  },
  {
   "cell_type": "code",
   "execution_count": null,
   "metadata": {},
   "outputs": [],
   "source": []
  },
  {
   "cell_type": "code",
   "execution_count": null,
   "metadata": {},
   "outputs": [],
   "source": []
  },
  {
   "cell_type": "markdown",
   "metadata": {},
   "source": [
    "Let's see how we can transfer the ideas to polynomial interpolation to the two-dimensional setting.\n",
    "\n",
    "\\begin{align*}\n",
    "f(x, y) = \\frac{\\cos(x)}{\\sin(y)}\n",
    "\\end{align*}"
   ]
  },
  {
   "cell_type": "code",
   "execution_count": null,
   "metadata": {},
   "outputs": [],
   "source": []
  },
  {
   "cell_type": "code",
   "execution_count": null,
   "metadata": {},
   "outputs": [],
   "source": []
  },
  {
   "cell_type": "markdown",
   "metadata": {},
   "source": [
    "Now, let's fit a two-dimensional polynomial approximation. We will have to rely on the `scikit-learn` library."
   ]
  },
  {
   "cell_type": "code",
   "execution_count": null,
   "metadata": {},
   "outputs": [],
   "source": []
  },
  {
   "cell_type": "markdown",
   "metadata": {},
   "source": [
    "We first need to set up an approximating model using some of its provided functionality. One of the functions at the core of this workflow is `np.meshgrid` which takes a bit of getting used to. Let's check out its [documentation](https://numpy.org/doc/stable/reference/generated/numpy.meshgrid.html) first and so some explorations."
   ]
  },
  {
   "cell_type": "code",
   "execution_count": null,
   "metadata": {},
   "outputs": [],
   "source": []
  },
  {
   "cell_type": "markdown",
   "metadata": {},
   "source": [
    "We now combine the univariate interpolation nodes into a two-dimensional grid, adjust it to meet the structure  expected by `scikit-learn`, expand it to contain all polynomials (including interactions), and fit a linear regression model."
   ]
  },
  {
   "cell_type": "code",
   "execution_count": null,
   "metadata": {},
   "outputs": [],
   "source": []
  },
  {
   "cell_type": "markdown",
   "metadata": {},
   "source": [
    "How well are we doing? As usual, we will simply compare the true and approximated values of the function over a fine grid. "
   ]
  },
  {
   "cell_type": "code",
   "execution_count": null,
   "metadata": {},
   "outputs": [],
   "source": []
  },
  {
   "cell_type": "markdown",
   "metadata": {},
   "source": [
    "\n",
    "## Resources"
   ]
  },
  {
   "cell_type": "markdown",
   "metadata": {},
   "source": [
    "\n",
    "* https://relate.cs.illinois.edu/course/cs450-f18/file-version/a7a1965adf0479d36f1a34889afe55e2ec61a532/demos/upload/07-interpolation/Chebyshev%20interpolation.html\n",
    "\n",
    "* https://www.unioviedo.es/compnum/labs/PYTHON/Interpolation.html\n",
    "\n",
    "* https://www.johndcook.com/blog/2017/11/06/chebyshev-interpolation/\n",
    "\n",
    "* https://numpy.org/devdocs/reference/routines.polynomials.html"
   ]
  }
 ],
 "metadata": {
  "kernelspec": {
   "display_name": "Python 3.8",
   "language": "python",
   "name": "datahub"
  },
  "language_info": {
   "codemirror_mode": {
    "name": "ipython",
    "version": 3
   },
   "file_extension": ".py",
   "mimetype": "text/x-python",
   "name": "python",
   "nbconvert_exporter": "python",
   "pygments_lexer": "ipython3",
   "version": "3.8.3"
  }
 },
 "nbformat": 4,
 "nbformat_minor": 4
}
